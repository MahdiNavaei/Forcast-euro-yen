{
  "cells": [
    {
      "cell_type": "markdown",
      "metadata": {
        "id": "view-in-github",
        "colab_type": "text"
      },
      "source": [
        "<a href=\"https://colab.research.google.com/github/MahdiNavaei/Forcast-euro-yen/blob/main/Forcast_euro_yen.ipynb\" target=\"_parent\"><img src=\"https://colab.research.google.com/assets/colab-badge.svg\" alt=\"Open In Colab\"/></a>"
      ]
    },
    {
      "cell_type": "code",
      "execution_count": 1,
      "metadata": {
        "id": "EN5I5vNIPIAq"
      },
      "outputs": [],
      "source": [
        "import pandas as pd\n",
        "import numpy as np\n",
        "import matplotlib.pyplot as plt\n",
        "import seaborn as sns\n",
        "import requests\n",
        "from datetime import datetime,timedelta\n",
        "import scipy\n",
        "import pylab\n",
        "import statsmodels.tsa.stattools as sts"
      ]
    },
    {
      "cell_type": "code",
      "execution_count": 2,
      "metadata": {
        "id": "tb0NPRjbPZSk"
      },
      "outputs": [],
      "source": [
        "api_key = 'e61479fbc59d62f40c959bd6021e9df48b79c324'"
      ]
    },
    {
      "cell_type": "code",
      "execution_count": 3,
      "metadata": {
        "id": "LCY8-DTiPZVP"
      },
      "outputs": [],
      "source": [
        "end = datetime.now()\n",
        "start = end - timedelta(days=365)\n",
        "start_date = start.replace(hour=0, minute=0, second=0, microsecond=0) - timedelta(days=365)\n",
        "end = start.strftime('%Y-%m-%d %H:%M:%S')\n"
      ]
    },
    {
      "cell_type": "code",
      "execution_count": 4,
      "metadata": {
        "id": "yl-QUMsYPZYP"
      },
      "outputs": [],
      "source": [
        "ticker = 'EURJPY'"
      ]
    },
    {
      "cell_type": "code",
      "execution_count": 5,
      "metadata": {
        "id": "JMIzYFKZPZaY"
      },
      "outputs": [],
      "source": [
        "interval = '1hour'"
      ]
    },
    {
      "cell_type": "code",
      "execution_count": 6,
      "metadata": {
        "id": "zTvgr93LPZe1"
      },
      "outputs": [],
      "source": [
        "url = f'https://api.tiingo.com/tiingo/fx/{ticker}/prices?startDate={start_date}&endDate={end}&resampleFreq={interval}&token={api_key}'\n"
      ]
    },
    {
      "cell_type": "code",
      "execution_count": 7,
      "metadata": {
        "id": "fXg4C6cJPZhb"
      },
      "outputs": [],
      "source": [
        "response = requests.get(url)"
      ]
    },
    {
      "cell_type": "code",
      "execution_count": 8,
      "metadata": {
        "colab": {
          "base_uri": "https://localhost:8080/"
        },
        "id": "ZXVR21ZuPZj4",
        "outputId": "d6c596d3-bb97-47ff-bb10-1fc351b98567"
      },
      "outputs": [
        {
          "output_type": "stream",
          "name": "stdout",
          "text": [
            "Data saved successfully.\n"
          ]
        }
      ],
      "source": [
        "if response.status_code == 200:\n",
        "    data = response.json()\n",
        "    df = pd.json_normalize(data)\n",
        "\n",
        "    # ذخیره داده ها در یک فایل اکسل\n",
        "    df.to_excel('stock_data.xlsx', index=False)\n",
        "    print('Data saved successfully.')\n",
        "else:\n",
        "    print(\"Error receiving data\")"
      ]
    },
    {
      "cell_type": "code",
      "execution_count": 9,
      "metadata": {
        "colab": {
          "base_uri": "https://localhost:8080/",
          "height": 424
        },
        "id": "RY6xTyxSPZmE",
        "outputId": "8ccdf80a-925d-4795-c5d9-b031ace0d4a6"
      },
      "outputs": [
        {
          "output_type": "execute_result",
          "data": {
            "text/plain": [
              "                          date  ticker      open      high       low     close\n",
              "0    2021-03-15 00:00:00+00:00  eurjpy  130.3975  130.4055  130.2975  130.3405\n",
              "1    2021-03-15 01:00:00+00:00  eurjpy  130.3410  130.4205  130.3280  130.4145\n",
              "2    2021-03-15 02:00:00+00:00  eurjpy  130.4155  130.4695  130.3325  130.3955\n",
              "3    2021-03-15 03:00:00+00:00  eurjpy  130.3945  130.4615  130.3845  130.4485\n",
              "4    2021-03-15 04:00:00+00:00  eurjpy  130.4490  130.4895  130.3785  130.3955\n",
              "...                        ...     ...       ...       ...       ...       ...\n",
              "6160 2022-03-15 10:00:00+00:00  eurjpy  129.8345  129.8345  129.6970  129.7630\n",
              "6161 2022-03-15 11:00:00+00:00  eurjpy  129.7640  129.8350  129.4940  129.5010\n",
              "6162 2022-03-15 12:00:00+00:00  eurjpy  129.5000  129.7865  129.4440  129.6640\n",
              "6163 2022-03-15 13:00:00+00:00  eurjpy  129.6650  129.7000  129.4910  129.6220\n",
              "6164 2022-03-15 14:00:00+00:00  eurjpy  129.6350  129.7390  129.6210  129.7235\n",
              "\n",
              "[6165 rows x 6 columns]"
            ],
            "text/html": [
              "\n",
              "  <div id=\"df-25d004c2-03c9-4fec-807a-30b68b2d3878\">\n",
              "    <div class=\"colab-df-container\">\n",
              "      <div>\n",
              "<style scoped>\n",
              "    .dataframe tbody tr th:only-of-type {\n",
              "        vertical-align: middle;\n",
              "    }\n",
              "\n",
              "    .dataframe tbody tr th {\n",
              "        vertical-align: top;\n",
              "    }\n",
              "\n",
              "    .dataframe thead th {\n",
              "        text-align: right;\n",
              "    }\n",
              "</style>\n",
              "<table border=\"1\" class=\"dataframe\">\n",
              "  <thead>\n",
              "    <tr style=\"text-align: right;\">\n",
              "      <th></th>\n",
              "      <th>date</th>\n",
              "      <th>ticker</th>\n",
              "      <th>open</th>\n",
              "      <th>high</th>\n",
              "      <th>low</th>\n",
              "      <th>close</th>\n",
              "    </tr>\n",
              "  </thead>\n",
              "  <tbody>\n",
              "    <tr>\n",
              "      <th>0</th>\n",
              "      <td>2021-03-15 00:00:00+00:00</td>\n",
              "      <td>eurjpy</td>\n",
              "      <td>130.3975</td>\n",
              "      <td>130.4055</td>\n",
              "      <td>130.2975</td>\n",
              "      <td>130.3405</td>\n",
              "    </tr>\n",
              "    <tr>\n",
              "      <th>1</th>\n",
              "      <td>2021-03-15 01:00:00+00:00</td>\n",
              "      <td>eurjpy</td>\n",
              "      <td>130.3410</td>\n",
              "      <td>130.4205</td>\n",
              "      <td>130.3280</td>\n",
              "      <td>130.4145</td>\n",
              "    </tr>\n",
              "    <tr>\n",
              "      <th>2</th>\n",
              "      <td>2021-03-15 02:00:00+00:00</td>\n",
              "      <td>eurjpy</td>\n",
              "      <td>130.4155</td>\n",
              "      <td>130.4695</td>\n",
              "      <td>130.3325</td>\n",
              "      <td>130.3955</td>\n",
              "    </tr>\n",
              "    <tr>\n",
              "      <th>3</th>\n",
              "      <td>2021-03-15 03:00:00+00:00</td>\n",
              "      <td>eurjpy</td>\n",
              "      <td>130.3945</td>\n",
              "      <td>130.4615</td>\n",
              "      <td>130.3845</td>\n",
              "      <td>130.4485</td>\n",
              "    </tr>\n",
              "    <tr>\n",
              "      <th>4</th>\n",
              "      <td>2021-03-15 04:00:00+00:00</td>\n",
              "      <td>eurjpy</td>\n",
              "      <td>130.4490</td>\n",
              "      <td>130.4895</td>\n",
              "      <td>130.3785</td>\n",
              "      <td>130.3955</td>\n",
              "    </tr>\n",
              "    <tr>\n",
              "      <th>...</th>\n",
              "      <td>...</td>\n",
              "      <td>...</td>\n",
              "      <td>...</td>\n",
              "      <td>...</td>\n",
              "      <td>...</td>\n",
              "      <td>...</td>\n",
              "    </tr>\n",
              "    <tr>\n",
              "      <th>6160</th>\n",
              "      <td>2022-03-15 10:00:00+00:00</td>\n",
              "      <td>eurjpy</td>\n",
              "      <td>129.8345</td>\n",
              "      <td>129.8345</td>\n",
              "      <td>129.6970</td>\n",
              "      <td>129.7630</td>\n",
              "    </tr>\n",
              "    <tr>\n",
              "      <th>6161</th>\n",
              "      <td>2022-03-15 11:00:00+00:00</td>\n",
              "      <td>eurjpy</td>\n",
              "      <td>129.7640</td>\n",
              "      <td>129.8350</td>\n",
              "      <td>129.4940</td>\n",
              "      <td>129.5010</td>\n",
              "    </tr>\n",
              "    <tr>\n",
              "      <th>6162</th>\n",
              "      <td>2022-03-15 12:00:00+00:00</td>\n",
              "      <td>eurjpy</td>\n",
              "      <td>129.5000</td>\n",
              "      <td>129.7865</td>\n",
              "      <td>129.4440</td>\n",
              "      <td>129.6640</td>\n",
              "    </tr>\n",
              "    <tr>\n",
              "      <th>6163</th>\n",
              "      <td>2022-03-15 13:00:00+00:00</td>\n",
              "      <td>eurjpy</td>\n",
              "      <td>129.6650</td>\n",
              "      <td>129.7000</td>\n",
              "      <td>129.4910</td>\n",
              "      <td>129.6220</td>\n",
              "    </tr>\n",
              "    <tr>\n",
              "      <th>6164</th>\n",
              "      <td>2022-03-15 14:00:00+00:00</td>\n",
              "      <td>eurjpy</td>\n",
              "      <td>129.6350</td>\n",
              "      <td>129.7390</td>\n",
              "      <td>129.6210</td>\n",
              "      <td>129.7235</td>\n",
              "    </tr>\n",
              "  </tbody>\n",
              "</table>\n",
              "<p>6165 rows × 6 columns</p>\n",
              "</div>\n",
              "      <button class=\"colab-df-convert\" onclick=\"convertToInteractive('df-25d004c2-03c9-4fec-807a-30b68b2d3878')\"\n",
              "              title=\"Convert this dataframe to an interactive table.\"\n",
              "              style=\"display:none;\">\n",
              "        \n",
              "  <svg xmlns=\"http://www.w3.org/2000/svg\" height=\"24px\"viewBox=\"0 0 24 24\"\n",
              "       width=\"24px\">\n",
              "    <path d=\"M0 0h24v24H0V0z\" fill=\"none\"/>\n",
              "    <path d=\"M18.56 5.44l.94 2.06.94-2.06 2.06-.94-2.06-.94-.94-2.06-.94 2.06-2.06.94zm-11 1L8.5 8.5l.94-2.06 2.06-.94-2.06-.94L8.5 2.5l-.94 2.06-2.06.94zm10 10l.94 2.06.94-2.06 2.06-.94-2.06-.94-.94-2.06-.94 2.06-2.06.94z\"/><path d=\"M17.41 7.96l-1.37-1.37c-.4-.4-.92-.59-1.43-.59-.52 0-1.04.2-1.43.59L10.3 9.45l-7.72 7.72c-.78.78-.78 2.05 0 2.83L4 21.41c.39.39.9.59 1.41.59.51 0 1.02-.2 1.41-.59l7.78-7.78 2.81-2.81c.8-.78.8-2.07 0-2.86zM5.41 20L4 18.59l7.72-7.72 1.47 1.35L5.41 20z\"/>\n",
              "  </svg>\n",
              "      </button>\n",
              "      \n",
              "  <style>\n",
              "    .colab-df-container {\n",
              "      display:flex;\n",
              "      flex-wrap:wrap;\n",
              "      gap: 12px;\n",
              "    }\n",
              "\n",
              "    .colab-df-convert {\n",
              "      background-color: #E8F0FE;\n",
              "      border: none;\n",
              "      border-radius: 50%;\n",
              "      cursor: pointer;\n",
              "      display: none;\n",
              "      fill: #1967D2;\n",
              "      height: 32px;\n",
              "      padding: 0 0 0 0;\n",
              "      width: 32px;\n",
              "    }\n",
              "\n",
              "    .colab-df-convert:hover {\n",
              "      background-color: #E2EBFA;\n",
              "      box-shadow: 0px 1px 2px rgba(60, 64, 67, 0.3), 0px 1px 3px 1px rgba(60, 64, 67, 0.15);\n",
              "      fill: #174EA6;\n",
              "    }\n",
              "\n",
              "    [theme=dark] .colab-df-convert {\n",
              "      background-color: #3B4455;\n",
              "      fill: #D2E3FC;\n",
              "    }\n",
              "\n",
              "    [theme=dark] .colab-df-convert:hover {\n",
              "      background-color: #434B5C;\n",
              "      box-shadow: 0px 1px 3px 1px rgba(0, 0, 0, 0.15);\n",
              "      filter: drop-shadow(0px 1px 2px rgba(0, 0, 0, 0.3));\n",
              "      fill: #FFFFFF;\n",
              "    }\n",
              "  </style>\n",
              "\n",
              "      <script>\n",
              "        const buttonEl =\n",
              "          document.querySelector('#df-25d004c2-03c9-4fec-807a-30b68b2d3878 button.colab-df-convert');\n",
              "        buttonEl.style.display =\n",
              "          google.colab.kernel.accessAllowed ? 'block' : 'none';\n",
              "\n",
              "        async function convertToInteractive(key) {\n",
              "          const element = document.querySelector('#df-25d004c2-03c9-4fec-807a-30b68b2d3878');\n",
              "          const dataTable =\n",
              "            await google.colab.kernel.invokeFunction('convertToInteractive',\n",
              "                                                     [key], {});\n",
              "          if (!dataTable) return;\n",
              "\n",
              "          const docLinkHtml = 'Like what you see? Visit the ' +\n",
              "            '<a target=\"_blank\" href=https://colab.research.google.com/notebooks/data_table.ipynb>data table notebook</a>'\n",
              "            + ' to learn more about interactive tables.';\n",
              "          element.innerHTML = '';\n",
              "          dataTable['output_type'] = 'display_data';\n",
              "          await google.colab.output.renderOutput(dataTable, element);\n",
              "          const docLink = document.createElement('div');\n",
              "          docLink.innerHTML = docLinkHtml;\n",
              "          element.appendChild(docLink);\n",
              "        }\n",
              "      </script>\n",
              "    </div>\n",
              "  </div>\n",
              "  "
            ]
          },
          "metadata": {},
          "execution_count": 9
        }
      ],
      "source": [
        "df= pd.DataFrame(df)\n",
        "df['date']=pd.to_datetime(df['date'])\n",
        "df"
      ]
    },
    {
      "cell_type": "code",
      "execution_count": 10,
      "metadata": {
        "id": "c8RSv8IxPZpW"
      },
      "outputs": [],
      "source": [
        "df['date'] = df['date'].dt.strftime('%d-%m-%Y %H:%M:%S')\n"
      ]
    },
    {
      "cell_type": "code",
      "execution_count": 11,
      "metadata": {
        "colab": {
          "base_uri": "https://localhost:8080/",
          "height": 455
        },
        "id": "8inJt9aqPZrQ",
        "outputId": "53dbb729-25d9-4d78-a564-fe9b2a3a6ffb"
      },
      "outputs": [
        {
          "output_type": "execute_result",
          "data": {
            "text/plain": [
              "                     ticker      open      high       low     close\n",
              "date                                                               \n",
              "15-03-2021 00:00:00  eurjpy  130.3975  130.4055  130.2975  130.3405\n",
              "15-03-2021 01:00:00  eurjpy  130.3410  130.4205  130.3280  130.4145\n",
              "15-03-2021 02:00:00  eurjpy  130.4155  130.4695  130.3325  130.3955\n",
              "15-03-2021 03:00:00  eurjpy  130.3945  130.4615  130.3845  130.4485\n",
              "15-03-2021 04:00:00  eurjpy  130.4490  130.4895  130.3785  130.3955\n",
              "...                     ...       ...       ...       ...       ...\n",
              "15-03-2022 10:00:00  eurjpy  129.8345  129.8345  129.6970  129.7630\n",
              "15-03-2022 11:00:00  eurjpy  129.7640  129.8350  129.4940  129.5010\n",
              "15-03-2022 12:00:00  eurjpy  129.5000  129.7865  129.4440  129.6640\n",
              "15-03-2022 13:00:00  eurjpy  129.6650  129.7000  129.4910  129.6220\n",
              "15-03-2022 14:00:00  eurjpy  129.6350  129.7390  129.6210  129.7235\n",
              "\n",
              "[6165 rows x 5 columns]"
            ],
            "text/html": [
              "\n",
              "  <div id=\"df-f8a25b0c-ab38-405e-9dba-cdeacb063108\">\n",
              "    <div class=\"colab-df-container\">\n",
              "      <div>\n",
              "<style scoped>\n",
              "    .dataframe tbody tr th:only-of-type {\n",
              "        vertical-align: middle;\n",
              "    }\n",
              "\n",
              "    .dataframe tbody tr th {\n",
              "        vertical-align: top;\n",
              "    }\n",
              "\n",
              "    .dataframe thead th {\n",
              "        text-align: right;\n",
              "    }\n",
              "</style>\n",
              "<table border=\"1\" class=\"dataframe\">\n",
              "  <thead>\n",
              "    <tr style=\"text-align: right;\">\n",
              "      <th></th>\n",
              "      <th>ticker</th>\n",
              "      <th>open</th>\n",
              "      <th>high</th>\n",
              "      <th>low</th>\n",
              "      <th>close</th>\n",
              "    </tr>\n",
              "    <tr>\n",
              "      <th>date</th>\n",
              "      <th></th>\n",
              "      <th></th>\n",
              "      <th></th>\n",
              "      <th></th>\n",
              "      <th></th>\n",
              "    </tr>\n",
              "  </thead>\n",
              "  <tbody>\n",
              "    <tr>\n",
              "      <th>15-03-2021 00:00:00</th>\n",
              "      <td>eurjpy</td>\n",
              "      <td>130.3975</td>\n",
              "      <td>130.4055</td>\n",
              "      <td>130.2975</td>\n",
              "      <td>130.3405</td>\n",
              "    </tr>\n",
              "    <tr>\n",
              "      <th>15-03-2021 01:00:00</th>\n",
              "      <td>eurjpy</td>\n",
              "      <td>130.3410</td>\n",
              "      <td>130.4205</td>\n",
              "      <td>130.3280</td>\n",
              "      <td>130.4145</td>\n",
              "    </tr>\n",
              "    <tr>\n",
              "      <th>15-03-2021 02:00:00</th>\n",
              "      <td>eurjpy</td>\n",
              "      <td>130.4155</td>\n",
              "      <td>130.4695</td>\n",
              "      <td>130.3325</td>\n",
              "      <td>130.3955</td>\n",
              "    </tr>\n",
              "    <tr>\n",
              "      <th>15-03-2021 03:00:00</th>\n",
              "      <td>eurjpy</td>\n",
              "      <td>130.3945</td>\n",
              "      <td>130.4615</td>\n",
              "      <td>130.3845</td>\n",
              "      <td>130.4485</td>\n",
              "    </tr>\n",
              "    <tr>\n",
              "      <th>15-03-2021 04:00:00</th>\n",
              "      <td>eurjpy</td>\n",
              "      <td>130.4490</td>\n",
              "      <td>130.4895</td>\n",
              "      <td>130.3785</td>\n",
              "      <td>130.3955</td>\n",
              "    </tr>\n",
              "    <tr>\n",
              "      <th>...</th>\n",
              "      <td>...</td>\n",
              "      <td>...</td>\n",
              "      <td>...</td>\n",
              "      <td>...</td>\n",
              "      <td>...</td>\n",
              "    </tr>\n",
              "    <tr>\n",
              "      <th>15-03-2022 10:00:00</th>\n",
              "      <td>eurjpy</td>\n",
              "      <td>129.8345</td>\n",
              "      <td>129.8345</td>\n",
              "      <td>129.6970</td>\n",
              "      <td>129.7630</td>\n",
              "    </tr>\n",
              "    <tr>\n",
              "      <th>15-03-2022 11:00:00</th>\n",
              "      <td>eurjpy</td>\n",
              "      <td>129.7640</td>\n",
              "      <td>129.8350</td>\n",
              "      <td>129.4940</td>\n",
              "      <td>129.5010</td>\n",
              "    </tr>\n",
              "    <tr>\n",
              "      <th>15-03-2022 12:00:00</th>\n",
              "      <td>eurjpy</td>\n",
              "      <td>129.5000</td>\n",
              "      <td>129.7865</td>\n",
              "      <td>129.4440</td>\n",
              "      <td>129.6640</td>\n",
              "    </tr>\n",
              "    <tr>\n",
              "      <th>15-03-2022 13:00:00</th>\n",
              "      <td>eurjpy</td>\n",
              "      <td>129.6650</td>\n",
              "      <td>129.7000</td>\n",
              "      <td>129.4910</td>\n",
              "      <td>129.6220</td>\n",
              "    </tr>\n",
              "    <tr>\n",
              "      <th>15-03-2022 14:00:00</th>\n",
              "      <td>eurjpy</td>\n",
              "      <td>129.6350</td>\n",
              "      <td>129.7390</td>\n",
              "      <td>129.6210</td>\n",
              "      <td>129.7235</td>\n",
              "    </tr>\n",
              "  </tbody>\n",
              "</table>\n",
              "<p>6165 rows × 5 columns</p>\n",
              "</div>\n",
              "      <button class=\"colab-df-convert\" onclick=\"convertToInteractive('df-f8a25b0c-ab38-405e-9dba-cdeacb063108')\"\n",
              "              title=\"Convert this dataframe to an interactive table.\"\n",
              "              style=\"display:none;\">\n",
              "        \n",
              "  <svg xmlns=\"http://www.w3.org/2000/svg\" height=\"24px\"viewBox=\"0 0 24 24\"\n",
              "       width=\"24px\">\n",
              "    <path d=\"M0 0h24v24H0V0z\" fill=\"none\"/>\n",
              "    <path d=\"M18.56 5.44l.94 2.06.94-2.06 2.06-.94-2.06-.94-.94-2.06-.94 2.06-2.06.94zm-11 1L8.5 8.5l.94-2.06 2.06-.94-2.06-.94L8.5 2.5l-.94 2.06-2.06.94zm10 10l.94 2.06.94-2.06 2.06-.94-2.06-.94-.94-2.06-.94 2.06-2.06.94z\"/><path d=\"M17.41 7.96l-1.37-1.37c-.4-.4-.92-.59-1.43-.59-.52 0-1.04.2-1.43.59L10.3 9.45l-7.72 7.72c-.78.78-.78 2.05 0 2.83L4 21.41c.39.39.9.59 1.41.59.51 0 1.02-.2 1.41-.59l7.78-7.78 2.81-2.81c.8-.78.8-2.07 0-2.86zM5.41 20L4 18.59l7.72-7.72 1.47 1.35L5.41 20z\"/>\n",
              "  </svg>\n",
              "      </button>\n",
              "      \n",
              "  <style>\n",
              "    .colab-df-container {\n",
              "      display:flex;\n",
              "      flex-wrap:wrap;\n",
              "      gap: 12px;\n",
              "    }\n",
              "\n",
              "    .colab-df-convert {\n",
              "      background-color: #E8F0FE;\n",
              "      border: none;\n",
              "      border-radius: 50%;\n",
              "      cursor: pointer;\n",
              "      display: none;\n",
              "      fill: #1967D2;\n",
              "      height: 32px;\n",
              "      padding: 0 0 0 0;\n",
              "      width: 32px;\n",
              "    }\n",
              "\n",
              "    .colab-df-convert:hover {\n",
              "      background-color: #E2EBFA;\n",
              "      box-shadow: 0px 1px 2px rgba(60, 64, 67, 0.3), 0px 1px 3px 1px rgba(60, 64, 67, 0.15);\n",
              "      fill: #174EA6;\n",
              "    }\n",
              "\n",
              "    [theme=dark] .colab-df-convert {\n",
              "      background-color: #3B4455;\n",
              "      fill: #D2E3FC;\n",
              "    }\n",
              "\n",
              "    [theme=dark] .colab-df-convert:hover {\n",
              "      background-color: #434B5C;\n",
              "      box-shadow: 0px 1px 3px 1px rgba(0, 0, 0, 0.15);\n",
              "      filter: drop-shadow(0px 1px 2px rgba(0, 0, 0, 0.3));\n",
              "      fill: #FFFFFF;\n",
              "    }\n",
              "  </style>\n",
              "\n",
              "      <script>\n",
              "        const buttonEl =\n",
              "          document.querySelector('#df-f8a25b0c-ab38-405e-9dba-cdeacb063108 button.colab-df-convert');\n",
              "        buttonEl.style.display =\n",
              "          google.colab.kernel.accessAllowed ? 'block' : 'none';\n",
              "\n",
              "        async function convertToInteractive(key) {\n",
              "          const element = document.querySelector('#df-f8a25b0c-ab38-405e-9dba-cdeacb063108');\n",
              "          const dataTable =\n",
              "            await google.colab.kernel.invokeFunction('convertToInteractive',\n",
              "                                                     [key], {});\n",
              "          if (!dataTable) return;\n",
              "\n",
              "          const docLinkHtml = 'Like what you see? Visit the ' +\n",
              "            '<a target=\"_blank\" href=https://colab.research.google.com/notebooks/data_table.ipynb>data table notebook</a>'\n",
              "            + ' to learn more about interactive tables.';\n",
              "          element.innerHTML = '';\n",
              "          dataTable['output_type'] = 'display_data';\n",
              "          await google.colab.output.renderOutput(dataTable, element);\n",
              "          const docLink = document.createElement('div');\n",
              "          docLink.innerHTML = docLinkHtml;\n",
              "          element.appendChild(docLink);\n",
              "        }\n",
              "      </script>\n",
              "    </div>\n",
              "  </div>\n",
              "  "
            ]
          },
          "metadata": {},
          "execution_count": 11
        }
      ],
      "source": [
        "df.set_index('date',inplace=True)\n",
        "df"
      ]
    },
    {
      "cell_type": "code",
      "execution_count": 12,
      "metadata": {
        "colab": {
          "base_uri": "https://localhost:8080/",
          "height": 295
        },
        "id": "m8QuWjxIPZt5",
        "outputId": "141767e0-1dda-4206-ebda-32cc3a229398"
      },
      "outputs": [
        {
          "output_type": "display_data",
          "data": {
            "text/plain": [
              "<Figure size 432x288 with 1 Axes>"
            ],
            "image/png": "[encoded data removed]"
          },
          "metadata": {
            "needs_background": "light"
          }
        }
      ],
      "source": [
        "scipy.stats.probplot(df.open,plot=pylab)\n",
        "pylab.show()"
      ]
    },
    {
      "cell_type": "code",
      "execution_count": 13,
      "metadata": {
        "colab": {
          "base_uri": "https://localhost:8080/"
        },
        "id": "OsrNCGN4PZwS",
        "outputId": "940c1cb7-5519-434e-dd61-5f4c2df35bb2"
      },
      "outputs": [
        {
          "output_type": "execute_result",
          "data": {
            "text/plain": [
              "(-2.651257717640691,\n",
              " 0.08285919086204274,\n",
              " 0,\n",
              " 6164,\n",
              " {'1%': -3.4314113279237977,\n",
              "  '5%': -2.862009011671878,\n",
              "  '10%': -2.5670196521269593},\n",
              " -9827.325931189593)"
            ]
          },
          "metadata": {},
          "execution_count": 13
        }
      ],
      "source": [
        "sts.adfuller(df.open)"
      ]
    },
    {
      "cell_type": "code",
      "execution_count": 14,
      "metadata": {
        "id": "IirPzdGpPZy3"
      },
      "outputs": [],
      "source": [
        "from statsmodels.tsa.seasonal import seasonal_decompose"
      ]
    },
    {
      "cell_type": "code",
      "execution_count": 15,
      "metadata": {
        "colab": {
          "base_uri": "https://localhost:8080/",
          "height": 281
        },
        "id": "v7GxW3GzPZ1G",
        "outputId": "6d4832d9-d102-4d07-8d03-885f4d0b9e0e"
      },
      "outputs": [
        {
          "output_type": "display_data",
          "data": {
            "text/plain": [
              "<Figure size 432x288 with 1 Axes>"
            ],
            "image/png": "[encoded data removed]"
          },
          "metadata": {
            "needs_background": "light"
          }
        }
      ],
      "source": [
        "#acf Plot\n",
        "import statsmodels.graphics.tsaplots as sgt\n",
        "sgt.plot_acf(df.open,lags=40,zero=False)\n",
        "plt.show()"
      ]
    },
    {
      "cell_type": "markdown",
      "metadata": {
        "id": "ACDAea3tb1co"
      },
      "source": [
        "q = 2 or 3"
      ]
    },
    {
      "cell_type": "code",
      "execution_count": 16,
      "metadata": {
        "colab": {
          "base_uri": "https://localhost:8080/",
          "height": 336
        },
        "id": "7Nk5cC6oPZ4H",
        "outputId": "c1fa11bb-162f-44cc-f482-73d5f6152a02"
      },
      "outputs": [
        {
          "output_type": "stream",
          "name": "stderr",
          "text": [
            "/usr/local/lib/python3.9/dist-packages/statsmodels/graphics/tsaplots.py:348: FutureWarning: The default method 'yw' can produce PACF values outside of the [-1,1] interval. After 0.13, the default will change tounadjusted Yule-Walker ('ywm'). You can use this method now by setting method='ywm'.\n",
            "  warnings.warn(\n"
          ]
        },
        {
          "output_type": "display_data",
          "data": {
            "text/plain": [
              "<Figure size 432x288 with 1 Axes>"
            ],
            "image/png": "[encoded data removed]"
          },
          "metadata": {
            "needs_background": "light"
          }
        }
      ],
      "source": [
        "#pacf Plot\n",
        "\n",
        "sgt.plot_pacf(df.open,lags=100,zero=False)\n",
        "plt.show()"
      ]
    },
    {
      "cell_type": "code",
      "execution_count": 17,
      "metadata": {
        "colab": {
          "base_uri": "https://localhost:8080/",
          "height": 455
        },
        "id": "Dzq3K72bPZ5c",
        "outputId": "70c9efa4-ebc9-4447-d53e-a7d3c4f5d90a"
      },
      "outputs": [
        {
          "output_type": "execute_result",
          "data": {
            "text/plain": [
              "                     ticker      open      high       low     close\n",
              "date                                                               \n",
              "15-03-2021 00:00:00  eurjpy  130.3975  130.4055  130.2975  130.3405\n",
              "15-03-2021 01:00:00  eurjpy  130.3410  130.4205  130.3280  130.4145\n",
              "15-03-2021 02:00:00  eurjpy  130.4155  130.4695  130.3325  130.3955\n",
              "15-03-2021 03:00:00  eurjpy  130.3945  130.4615  130.3845  130.4485\n",
              "15-03-2021 04:00:00  eurjpy  130.4490  130.4895  130.3785  130.3955\n",
              "...                     ...       ...       ...       ...       ...\n",
              "03-01-2022 00:00:00  eurjpy  130.9540  131.0015  130.9130  130.9815\n",
              "03-01-2022 01:00:00  eurjpy  130.9810  131.0050  130.7920  130.8690\n",
              "03-01-2022 02:00:00  eurjpy  130.8695  130.8695  130.7525  130.7585\n",
              "03-01-2022 03:00:00  eurjpy  130.7575  130.8555  130.7410  130.8215\n",
              "03-01-2022 04:00:00  eurjpy  130.8220  130.8290  130.7105  130.7245\n",
              "\n",
              "[4932 rows x 5 columns]"
            ],
            "text/html": [
              "\n",
              "  <div id=\"df-62e32aab-0ffa-4515-949f-71e75ce12f30\">\n",
              "    <div class=\"colab-df-container\">\n",
              "      <div>\n",
              "<style scoped>\n",
              "    .dataframe tbody tr th:only-of-type {\n",
              "        vertical-align: middle;\n",
              "    }\n",
              "\n",
              "    .dataframe tbody tr th {\n",
              "        vertical-align: top;\n",
              "    }\n",
              "\n",
              "    .dataframe thead th {\n",
              "        text-align: right;\n",
              "    }\n",
              "</style>\n",
              "<table border=\"1\" class=\"dataframe\">\n",
              "  <thead>\n",
              "    <tr style=\"text-align: right;\">\n",
              "      <th></th>\n",
              "      <th>ticker</th>\n",
              "      <th>open</th>\n",
              "      <th>high</th>\n",
              "      <th>low</th>\n",
              "      <th>close</th>\n",
              "    </tr>\n",
              "    <tr>\n",
              "      <th>date</th>\n",
              "      <th></th>\n",
              "      <th></th>\n",
              "      <th></th>\n",
              "      <th></th>\n",
              "      <th></th>\n",
              "    </tr>\n",
              "  </thead>\n",
              "  <tbody>\n",
              "    <tr>\n",
              "      <th>15-03-2021 00:00:00</th>\n",
              "      <td>eurjpy</td>\n",
              "      <td>130.3975</td>\n",
              "      <td>130.4055</td>\n",
              "      <td>130.2975</td>\n",
              "      <td>130.3405</td>\n",
              "    </tr>\n",
              "    <tr>\n",
              "      <th>15-03-2021 01:00:00</th>\n",
              "      <td>eurjpy</td>\n",
              "      <td>130.3410</td>\n",
              "      <td>130.4205</td>\n",
              "      <td>130.3280</td>\n",
              "      <td>130.4145</td>\n",
              "    </tr>\n",
              "    <tr>\n",
              "      <th>15-03-2021 02:00:00</th>\n",
              "      <td>eurjpy</td>\n",
              "      <td>130.4155</td>\n",
              "      <td>130.4695</td>\n",
              "      <td>130.3325</td>\n",
              "      <td>130.3955</td>\n",
              "    </tr>\n",
              "    <tr>\n",
              "      <th>15-03-2021 03:00:00</th>\n",
              "      <td>eurjpy</td>\n",
              "      <td>130.3945</td>\n",
              "      <td>130.4615</td>\n",
              "      <td>130.3845</td>\n",
              "      <td>130.4485</td>\n",
              "    </tr>\n",
              "    <tr>\n",
              "      <th>15-03-2021 04:00:00</th>\n",
              "      <td>eurjpy</td>\n",
              "      <td>130.4490</td>\n",
              "      <td>130.4895</td>\n",
              "      <td>130.3785</td>\n",
              "      <td>130.3955</td>\n",
              "    </tr>\n",
              "    <tr>\n",
              "      <th>...</th>\n",
              "      <td>...</td>\n",
              "      <td>...</td>\n",
              "      <td>...</td>\n",
              "      <td>...</td>\n",
              "      <td>...</td>\n",
              "    </tr>\n",
              "    <tr>\n",
              "      <th>03-01-2022 00:00:00</th>\n",
              "      <td>eurjpy</td>\n",
              "      <td>130.9540</td>\n",
              "      <td>131.0015</td>\n",
              "      <td>130.9130</td>\n",
              "      <td>130.9815</td>\n",
              "    </tr>\n",
              "    <tr>\n",
              "      <th>03-01-2022 01:00:00</th>\n",
              "      <td>eurjpy</td>\n",
              "      <td>130.9810</td>\n",
              "      <td>131.0050</td>\n",
              "      <td>130.7920</td>\n",
              "      <td>130.8690</td>\n",
              "    </tr>\n",
              "    <tr>\n",
              "      <th>03-01-2022 02:00:00</th>\n",
              "      <td>eurjpy</td>\n",
              "      <td>130.8695</td>\n",
              "      <td>130.8695</td>\n",
              "      <td>130.7525</td>\n",
              "      <td>130.7585</td>\n",
              "    </tr>\n",
              "    <tr>\n",
              "      <th>03-01-2022 03:00:00</th>\n",
              "      <td>eurjpy</td>\n",
              "      <td>130.7575</td>\n",
              "      <td>130.8555</td>\n",
              "      <td>130.7410</td>\n",
              "      <td>130.8215</td>\n",
              "    </tr>\n",
              "    <tr>\n",
              "      <th>03-01-2022 04:00:00</th>\n",
              "      <td>eurjpy</td>\n",
              "      <td>130.8220</td>\n",
              "      <td>130.8290</td>\n",
              "      <td>130.7105</td>\n",
              "      <td>130.7245</td>\n",
              "    </tr>\n",
              "  </tbody>\n",
              "</table>\n",
              "<p>4932 rows × 5 columns</p>\n",
              "</div>\n",
              "      <button class=\"colab-df-convert\" onclick=\"convertToInteractive('df-62e32aab-0ffa-4515-949f-71e75ce12f30')\"\n",
              "              title=\"Convert this dataframe to an interactive table.\"\n",
              "              style=\"display:none;\">\n",
              "        \n",
              "  <svg xmlns=\"http://www.w3.org/2000/svg\" height=\"24px\"viewBox=\"0 0 24 24\"\n",
              "       width=\"24px\">\n",
              "    <path d=\"M0 0h24v24H0V0z\" fill=\"none\"/>\n",
              "    <path d=\"M18.56 5.44l.94 2.06.94-2.06 2.06-.94-2.06-.94-.94-2.06-.94 2.06-2.06.94zm-11 1L8.5 8.5l.94-2.06 2.06-.94-2.06-.94L8.5 2.5l-.94 2.06-2.06.94zm10 10l.94 2.06.94-2.06 2.06-.94-2.06-.94-.94-2.06-.94 2.06-2.06.94z\"/><path d=\"M17.41 7.96l-1.37-1.37c-.4-.4-.92-.59-1.43-.59-.52 0-1.04.2-1.43.59L10.3 9.45l-7.72 7.72c-.78.78-.78 2.05 0 2.83L4 21.41c.39.39.9.59 1.41.59.51 0 1.02-.2 1.41-.59l7.78-7.78 2.81-2.81c.8-.78.8-2.07 0-2.86zM5.41 20L4 18.59l7.72-7.72 1.47 1.35L5.41 20z\"/>\n",
              "  </svg>\n",
              "      </button>\n",
              "      \n",
              "  <style>\n",
              "    .colab-df-container {\n",
              "      display:flex;\n",
              "      flex-wrap:wrap;\n",
              "      gap: 12px;\n",
              "    }\n",
              "\n",
              "    .colab-df-convert {\n",
              "      background-color: #E8F0FE;\n",
              "      border: none;\n",
              "      border-radius: 50%;\n",
              "      cursor: pointer;\n",
              "      display: none;\n",
              "      fill: #1967D2;\n",
              "      height: 32px;\n",
              "      padding: 0 0 0 0;\n",
              "      width: 32px;\n",
              "    }\n",
              "\n",
              "    .colab-df-convert:hover {\n",
              "      background-color: #E2EBFA;\n",
              "      box-shadow: 0px 1px 2px rgba(60, 64, 67, 0.3), 0px 1px 3px 1px rgba(60, 64, 67, 0.15);\n",
              "      fill: #174EA6;\n",
              "    }\n",
              "\n",
              "    [theme=dark] .colab-df-convert {\n",
              "      background-color: #3B4455;\n",
              "      fill: #D2E3FC;\n",
              "    }\n",
              "\n",
              "    [theme=dark] .colab-df-convert:hover {\n",
              "      background-color: #434B5C;\n",
              "      box-shadow: 0px 1px 3px 1px rgba(0, 0, 0, 0.15);\n",
              "      filter: drop-shadow(0px 1px 2px rgba(0, 0, 0, 0.3));\n",
              "      fill: #FFFFFF;\n",
              "    }\n",
              "  </style>\n",
              "\n",
              "      <script>\n",
              "        const buttonEl =\n",
              "          document.querySelector('#df-62e32aab-0ffa-4515-949f-71e75ce12f30 button.colab-df-convert');\n",
              "        buttonEl.style.display =\n",
              "          google.colab.kernel.accessAllowed ? 'block' : 'none';\n",
              "\n",
              "        async function convertToInteractive(key) {\n",
              "          const element = document.querySelector('#df-62e32aab-0ffa-4515-949f-71e75ce12f30');\n",
              "          const dataTable =\n",
              "            await google.colab.kernel.invokeFunction('convertToInteractive',\n",
              "                                                     [key], {});\n",
              "          if (!dataTable) return;\n",
              "\n",
              "          const docLinkHtml = 'Like what you see? Visit the ' +\n",
              "            '<a target=\"_blank\" href=https://colab.research.google.com/notebooks/data_table.ipynb>data table notebook</a>'\n",
              "            + ' to learn more about interactive tables.';\n",
              "          element.innerHTML = '';\n",
              "          dataTable['output_type'] = 'display_data';\n",
              "          await google.colab.output.renderOutput(dataTable, element);\n",
              "          const docLink = document.createElement('div');\n",
              "          docLink.innerHTML = docLinkHtml;\n",
              "          element.appendChild(docLink);\n",
              "        }\n",
              "      </script>\n",
              "    </div>\n",
              "  </div>\n",
              "  "
            ]
          },
          "metadata": {},
          "execution_count": 17
        }
      ],
      "source": [
        "size= int(len(df)*0.8)\n",
        "train= df.iloc[:size,:]\n",
        "test=df.iloc[size:,:]\n",
        "train"
      ]
    },
    {
      "cell_type": "code",
      "execution_count": 18,
      "metadata": {
        "colab": {
          "base_uri": "https://localhost:8080/"
        },
        "id": "IN9JITqJPZ7u",
        "outputId": "ae242f4d-5870-4678-9996-fcb06d2e9a52"
      },
      "outputs": [
        {
          "output_type": "stream",
          "name": "stderr",
          "text": [
            "/usr/local/lib/python3.9/dist-packages/statsmodels/tsa/base/tsa_model.py:471: ValueWarning: A date index has been provided, but it has no associated frequency information and so will be ignored when e.g. forecasting.\n",
            "  self._init_dates(dates, freq)\n",
            "/usr/local/lib/python3.9/dist-packages/statsmodels/tsa/base/tsa_model.py:471: ValueWarning: A date index has been provided, but it is not monotonic and so will be ignored when e.g. forecasting.\n",
            "  self._init_dates(dates, freq)\n",
            "/usr/local/lib/python3.9/dist-packages/statsmodels/tsa/base/tsa_model.py:471: ValueWarning: A date index has been provided, but it has no associated frequency information and so will be ignored when e.g. forecasting.\n",
            "  self._init_dates(dates, freq)\n",
            "/usr/local/lib/python3.9/dist-packages/statsmodels/tsa/base/tsa_model.py:471: ValueWarning: A date index has been provided, but it is not monotonic and so will be ignored when e.g. forecasting.\n",
            "  self._init_dates(dates, freq)\n",
            "/usr/local/lib/python3.9/dist-packages/statsmodels/tsa/base/tsa_model.py:471: ValueWarning: A date index has been provided, but it has no associated frequency information and so will be ignored when e.g. forecasting.\n",
            "  self._init_dates(dates, freq)\n",
            "/usr/local/lib/python3.9/dist-packages/statsmodels/tsa/base/tsa_model.py:471: ValueWarning: A date index has been provided, but it is not monotonic and so will be ignored when e.g. forecasting.\n",
            "  self._init_dates(dates, freq)\n"
          ]
        }
      ],
      "source": [
        "import statsmodels.api as sm \n",
        "model=sm.tsa.arima.ARIMA(train.open,order=(2,0,2))"
      ]
    },
    {
      "cell_type": "code",
      "execution_count": 19,
      "metadata": {
        "colab": {
          "base_uri": "https://localhost:8080/",
          "height": 494
        },
        "id": "DCR9Tji7PZ-b",
        "outputId": "5a2187b9-8784-4ee4-81ff-48b2c8ea6414"
      },
      "outputs": [
        {
          "output_type": "execute_result",
          "data": {
            "text/plain": [
              "<class 'statsmodels.iolib.summary.Summary'>\n",
              "\"\"\"\n",
              "                               SARIMAX Results                                \n",
              "==============================================================================\n",
              "Dep. Variable:                   open   No. Observations:                 4932\n",
              "Model:                 ARIMA(2, 0, 2)   Log Likelihood                4659.117\n",
              "Date:                Wed, 15 Mar 2023   AIC                          -9306.234\n",
              "Time:                        14:20:47   BIC                          -9267.213\n",
              "Sample:                             0   HQIC                         -9292.548\n",
              "                               - 4932                                         \n",
              "Covariance Type:                  opg                                         \n",
              "==============================================================================\n",
              "                 coef    std err          z      P>|z|      [0.025      0.975]\n",
              "------------------------------------------------------------------------------\n",
              "const        130.5498      0.689    189.382      0.000     129.199     131.901\n",
              "ar.L1          1.9649      0.226      8.704      0.000       1.522       2.407\n",
              "ar.L2         -0.9649      0.225     -4.283      0.000      -1.407      -0.523\n",
              "ma.L1         -0.9858      0.226     -4.365      0.000      -1.428      -0.543\n",
              "ma.L2          0.0194      0.011      1.786      0.074      -0.002       0.041\n",
              "sigma2         0.0088   9.95e-05     88.833      0.000       0.009       0.009\n",
              "===================================================================================\n",
              "Ljung-Box (L1) (Q):                   0.00   Jarque-Bera (JB):              4874.97\n",
              "Prob(Q):                              0.98   Prob(JB):                         0.00\n",
              "Heteroskedasticity (H):               1.49   Skew:                            -0.55\n",
              "Prob(H) (two-sided):                  0.00   Kurtosis:                         7.74\n",
              "===================================================================================\n",
              "\n",
              "Warnings:\n",
              "[1] Covariance matrix calculated using the outer product of gradients (complex-step).\n",
              "\"\"\""
            ],
            "text/html": [
              "<table class=\"simpletable\">\n",
              "<caption>SARIMAX Results</caption>\n",
              "<tr>\n",
              "  <th>Dep. Variable:</th>         <td>open</td>       <th>  No. Observations:  </th>   <td>4932</td>   \n",
              "</tr>\n",
              "<tr>\n",
              "  <th>Model:</th>            <td>ARIMA(2, 0, 2)</td>  <th>  Log Likelihood     </th> <td>4659.117</td> \n",
              "</tr>\n",
              "<tr>\n",
              "  <th>Date:</th>            <td>Wed, 15 Mar 2023</td> <th>  AIC                </th> <td>-9306.234</td>\n",
              "</tr>\n",
              "<tr>\n",
              "  <th>Time:</th>                <td>14:20:47</td>     <th>  BIC                </th> <td>-9267.213</td>\n",
              "</tr>\n",
              "<tr>\n",
              "  <th>Sample:</th>                  <td>0</td>        <th>  HQIC               </th> <td>-9292.548</td>\n",
              "</tr>\n",
              "<tr>\n",
              "  <th></th>                      <td> - 4932</td>     <th>                     </th>     <td> </td>    \n",
              "</tr>\n",
              "<tr>\n",
              "  <th>Covariance Type:</th>        <td>opg</td>       <th>                     </th>     <td> </td>    \n",
              "</tr>\n",
              "</table>\n",
              "<table class=\"simpletable\">\n",
              "<tr>\n",
              "     <td></td>       <th>coef</th>     <th>std err</th>      <th>z</th>      <th>P>|z|</th>  <th>[0.025</th>    <th>0.975]</th>  \n",
              "</tr>\n",
              "<tr>\n",
              "  <th>const</th>  <td>  130.5498</td> <td>    0.689</td> <td>  189.382</td> <td> 0.000</td> <td>  129.199</td> <td>  131.901</td>\n",
              "</tr>\n",
              "<tr>\n",
              "  <th>ar.L1</th>  <td>    1.9649</td> <td>    0.226</td> <td>    8.704</td> <td> 0.000</td> <td>    1.522</td> <td>    2.407</td>\n",
              "</tr>\n",
              "<tr>\n",
              "  <th>ar.L2</th>  <td>   -0.9649</td> <td>    0.225</td> <td>   -4.283</td> <td> 0.000</td> <td>   -1.407</td> <td>   -0.523</td>\n",
              "</tr>\n",
              "<tr>\n",
              "  <th>ma.L1</th>  <td>   -0.9858</td> <td>    0.226</td> <td>   -4.365</td> <td> 0.000</td> <td>   -1.428</td> <td>   -0.543</td>\n",
              "</tr>\n",
              "<tr>\n",
              "  <th>ma.L2</th>  <td>    0.0194</td> <td>    0.011</td> <td>    1.786</td> <td> 0.074</td> <td>   -0.002</td> <td>    0.041</td>\n",
              "</tr>\n",
              "<tr>\n",
              "  <th>sigma2</th> <td>    0.0088</td> <td> 9.95e-05</td> <td>   88.833</td> <td> 0.000</td> <td>    0.009</td> <td>    0.009</td>\n",
              "</tr>\n",
              "</table>\n",
              "<table class=\"simpletable\">\n",
              "<tr>\n",
              "  <th>Ljung-Box (L1) (Q):</th>     <td>0.00</td> <th>  Jarque-Bera (JB):  </th> <td>4874.97</td>\n",
              "</tr>\n",
              "<tr>\n",
              "  <th>Prob(Q):</th>                <td>0.98</td> <th>  Prob(JB):          </th>  <td>0.00</td>  \n",
              "</tr>\n",
              "<tr>\n",
              "  <th>Heteroskedasticity (H):</th> <td>1.49</td> <th>  Skew:              </th>  <td>-0.55</td> \n",
              "</tr>\n",
              "<tr>\n",
              "  <th>Prob(H) (two-sided):</th>    <td>0.00</td> <th>  Kurtosis:          </th>  <td>7.74</td>  \n",
              "</tr>\n",
              "</table><br/><br/>Warnings:<br/>[1] Covariance matrix calculated using the outer product of gradients (complex-step)."
            ]
          },
          "metadata": {},
          "execution_count": 19
        }
      ],
      "source": [
        "result= model.fit()\n",
        "result.summary()"
      ]
    },
    {
      "cell_type": "code",
      "execution_count": 20,
      "metadata": {
        "colab": {
          "base_uri": "https://localhost:8080/",
          "height": 265
        },
        "id": "Jgt6iM8JcT9-",
        "outputId": "db5ff26b-26f4-4234-8c17-864d682ca393"
      },
      "outputs": [
        {
          "output_type": "display_data",
          "data": {
            "text/plain": [
              "<Figure size 432x288 with 1 Axes>"
            ],
            "image/png": "[encoded data removed]"
          },
          "metadata": {
            "needs_background": "light"
          }
        }
      ],
      "source": [
        "resid= result.resid\n",
        "re= pd.DataFrame(resid)\n",
        "re.plot(kind='kde')\n",
        "plt.show()"
      ]
    },
    {
      "cell_type": "code",
      "execution_count": 21,
      "metadata": {
        "colab": {
          "base_uri": "https://localhost:8080/",
          "height": 606
        },
        "id": "O9XPKXm5cUBq",
        "outputId": "a1144f5f-b613-4d14-baeb-805908afb561"
      },
      "outputs": [
        {
          "output_type": "display_data",
          "data": {
            "text/plain": [
              "<Figure size 2160x720 with 1 Axes>"
            ],
            "image/png": "[encoded data removed]"
          },
          "metadata": {
            "needs_background": "light"
          }
        }
      ],
      "source": [
        "plt.figure(figsize=(30,10))\n",
        "plt.grid(True)\n",
        "plt.xlabel('Dates')\n",
        "plt.ylabel('Open Prices')\n",
        "plt.plot(train.open,'green',label='Train data')\n",
        "plt.plot(test.open,'blue',label='Test data')\n",
        "plt.legend()\n",
        "plt.show()"
      ]
    },
    {
      "cell_type": "code",
      "execution_count": 22,
      "metadata": {
        "colab": {
          "base_uri": "https://localhost:8080/"
        },
        "id": "Hn9kWm9ncUEN",
        "outputId": "0852ae6d-8ee9-4af6-8eb2-086edfcf8b87"
      },
      "outputs": [
        {
          "output_type": "execute_result",
          "data": {
            "text/plain": [
              "date\n",
              "03-01-2022 05:00:00    130.7250\n",
              "03-01-2022 06:00:00    130.7390\n",
              "03-01-2022 07:00:00    130.8285\n",
              "03-01-2022 08:00:00    130.8355\n",
              "03-01-2022 09:00:00    130.7820\n",
              "                         ...   \n",
              "15-03-2022 10:00:00    129.8345\n",
              "15-03-2022 11:00:00    129.7640\n",
              "15-03-2022 12:00:00    129.5000\n",
              "15-03-2022 13:00:00    129.6650\n",
              "15-03-2022 14:00:00    129.6350\n",
              "Name: open, Length: 1233, dtype: float64"
            ]
          },
          "metadata": {},
          "execution_count": 22
        }
      ],
      "source": [
        "test.open"
      ]
    },
    {
      "cell_type": "code",
      "execution_count": 25,
      "metadata": {
        "id": "gy8yAnFCcUIL"
      },
      "outputs": [],
      "source": [
        "start= '03-01-2022 05:00:00'\n",
        "end= '15-03-2022 14:00:00'"
      ]
    },
    {
      "cell_type": "code",
      "execution_count": null,
      "metadata": {
        "colab": {
          "base_uri": "https://localhost:8080/"
        },
        "id": "EVb1u1L1cULn",
        "outputId": "ca08b01b-fb27-44d1-b869-8a15fd85ed97"
      },
      "outputs": [
        {
          "output_type": "stream",
          "name": "stderr",
          "text": [
            "/usr/local/lib/python3.9/dist-packages/statsmodels/base/model.py:604: ConvergenceWarning: Maximum Likelihood optimization failed to converge. Check mle_retvals\n",
            "  warnings.warn(\"Maximum Likelihood optimization failed to \"\n",
            "/usr/local/lib/python3.9/dist-packages/statsmodels/base/model.py:604: ConvergenceWarning: Maximum Likelihood optimization failed to converge. Check mle_retvals\n",
            "  warnings.warn(\"Maximum Likelihood optimization failed to \"\n",
            "/usr/local/lib/python3.9/dist-packages/statsmodels/base/model.py:604: ConvergenceWarning: Maximum Likelihood optimization failed to converge. Check mle_retvals\n",
            "  warnings.warn(\"Maximum Likelihood optimization failed to \"\n",
            "/usr/local/lib/python3.9/dist-packages/statsmodels/base/model.py:604: ConvergenceWarning: Maximum Likelihood optimization failed to converge. Check mle_retvals\n",
            "  warnings.warn(\"Maximum Likelihood optimization failed to \"\n",
            "/usr/local/lib/python3.9/dist-packages/statsmodels/base/model.py:604: ConvergenceWarning: Maximum Likelihood optimization failed to converge. Check mle_retvals\n",
            "  warnings.warn(\"Maximum Likelihood optimization failed to \"\n"
          ]
        }
      ],
      "source": [
        "history = [x for x in train.open]\n",
        "pred = list()\n",
        "for t in range (len(test.open[start:end])):\n",
        "    model=sm.tsa.arima.ARIMA(history,order=(2,1,2))\n",
        "    result= model.fit()\n",
        "    output=result.forecast()\n",
        "    yhat=output[0]\n",
        "    pred.append(yhat)\n",
        "    obs=test.open[t]\n",
        "    history.append(obs)"
      ]
    },
    {
      "cell_type": "code",
      "execution_count": null,
      "metadata": {
        "id": "MoXAWYRrcUOM"
      },
      "outputs": [],
      "source": [
        "pred= pd.DataFrame(pred,index=test[start:end].index)\n",
        "pred.plot(figsize=(20,5),c='r')\n",
        "test.open[start:end].plot(figsize=(20,5),c='b')\n",
        "plt.show()"
      ]
    },
    {
      "cell_type": "code",
      "execution_count": null,
      "metadata": {
        "id": "XAOrp8mkcUQb"
      },
      "outputs": [],
      "source": []
    },
    {
      "cell_type": "code",
      "execution_count": null,
      "metadata": {
        "id": "NYgiKfjzcUdz"
      },
      "outputs": [],
      "source": []
    },
    {
      "cell_type": "markdown",
      "metadata": {
        "id": "XhlLLPz_PPUU"
      },
      "source": [
        "# New Section"
      ]
    }
  ],
  "metadata": {
    "accelerator": "TPU",
    "colab": {
      "provenance": [],
      "authorship_tag": "ABX9TyM17uOBCf9KeIcvExdhUMB2",
      "include_colab_link": true
    },
    "gpuClass": "standard",
    "kernelspec": {
      "display_name": "Python 3",
      "name": "python3"
    },
    "language_info": {
      "name": "python"
    }
  },
  "nbformat": 4,
  "nbformat_minor": 0
}