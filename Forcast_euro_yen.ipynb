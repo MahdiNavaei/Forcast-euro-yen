{
  "cells": [
    {
      "cell_type": "markdown",
      "metadata": {
        "id": "view-in-github",
        "colab_type": "text"
      },
      "source": [
        "<a href=\"https://colab.research.google.com/github/MahdiNavaei/Forcast-euro-yen/blob/main/Forcast_euro_yen.ipynb\" target=\"_parent\"><img src=\"https://colab.research.google.com/assets/colab-badge.svg\" alt=\"Open In Colab\"/></a>"
      ]
    },
    {
      "cell_type": "code",
      "execution_count": 45,
      "metadata": {
        "id": "EN5I5vNIPIAq"
      },
      "outputs": [],
      "source": [
        "import pandas as pd\n",
        "import numpy as np\n",
        "import matplotlib.pyplot as plt\n",
        "import seaborn as sns\n",
        "import requests\n",
        "from datetime import datetime,timedelta\n",
        "import scipy\n",
        "import pylab\n",
        "import statsmodels.tsa.stattools as sts"
      ]
    },
    {
      "cell_type": "code",
      "execution_count": 46,
      "metadata": {
        "id": "tb0NPRjbPZSk"
      },
      "outputs": [],
      "source": [
        "api_key = 'e61479fbc59d62f40c959bd6021e9df48b79c324'"
      ]
    },
    {
      "cell_type": "code",
      "execution_count": 70,
      "metadata": {
        "id": "LCY8-DTiPZVP"
      },
      "outputs": [],
      "source": [
        "end = datetime.now()\n",
        "start = end - timedelta(days=365*2)\n",
        "start_date = start.replace(hour=0, minute=0, second=0, microsecond=0)\n",
        "end_date = end.replace(hour=23, minute=59, second=59, microsecond=999999)\n"
      ]
    },
    {
      "cell_type": "code",
      "execution_count": 71,
      "metadata": {
        "id": "yl-QUMsYPZYP"
      },
      "outputs": [],
      "source": [
        "ticker = 'EURJPY'"
      ]
    },
    {
      "cell_type": "code",
      "execution_count": 72,
      "metadata": {
        "id": "JMIzYFKZPZaY"
      },
      "outputs": [],
      "source": [
        "interval = '1hour'"
      ]
    },
    {
      "cell_type": "code",
      "execution_count": 73,
      "metadata": {
        "id": "zTvgr93LPZe1"
      },
      "outputs": [],
      "source": [
        "url = f'https://api.tiingo.com/tiingo/fx/{ticker}/prices?startDate={start_date}&endDate={end_date}&resampleFreq={interval}&token={api_key}'\n"
      ]
    },
    {
      "cell_type": "code",
      "execution_count": 74,
      "metadata": {
        "id": "fXg4C6cJPZhb"
      },
      "outputs": [],
      "source": [
        "response = requests.get(url)"
      ]
    },
    {
      "cell_type": "code",
      "execution_count": 75,
      "metadata": {
        "colab": {
          "base_uri": "https://localhost:8080/"
        },
        "id": "ZXVR21ZuPZj4",
        "outputId": "7c32489e-f535-44ac-df7f-e966e23d8509"
      },
      "outputs": [
        {
          "output_type": "stream",
          "name": "stdout",
          "text": [
            "Data saved successfully.\n"
          ]
        }
      ],
      "source": [
        "if response.status_code == 200:\n",
        "    data = response.json()\n",
        "    df = pd.json_normalize(data)\n",
        "\n",
        "    # ذخیره داده ها در یک فایل اکسل\n",
        "    df.to_excel('stock_data.xlsx', index=False)\n",
        "    print('Data saved successfully.')\n",
        "else:\n",
        "    print(\"Error receiving data\")"
      ]
    },
    {
      "cell_type": "code",
      "source": [
        "df= pd.DataFrame(df)\n",
        "df"
      ],
      "metadata": {
        "colab": {
          "base_uri": "https://localhost:8080/",
          "height": 424
        },
        "id": "sYIwEWh_uYCM",
        "outputId": "10a7ebbf-da47-45a1-e36e-6b7588ebbd06"
      },
      "execution_count": 76,
      "outputs": [
        {
          "output_type": "execute_result",
          "data": {
            "text/plain": [
              "                          date  ticker      open      high       low     close\n",
              "0     2021-03-16T00:00:00.000Z  eurjpy  130.1495  130.2730  130.1455  130.2395\n",
              "1     2021-03-16T01:00:00.000Z  eurjpy  130.2400  130.2885  130.2255  130.2555\n",
              "2     2021-03-16T02:00:00.000Z  eurjpy  130.2565  130.2645  130.1795  130.2585\n",
              "3     2021-03-16T03:00:00.000Z  eurjpy  130.2575  130.3075  130.2520  130.2705\n",
              "4     2021-03-16T04:00:00.000Z  eurjpy  130.2710  130.3405  130.2495  130.3325\n",
              "...                        ...     ...       ...       ...       ...       ...\n",
              "7038  2022-05-06T12:00:00.000Z  eurjpy  137.8010  138.0810  137.7560  137.9020\n",
              "7039  2022-05-06T13:00:00.000Z  eurjpy  137.9015  138.1590  137.7160  137.8010\n",
              "7040  2022-05-06T14:00:00.000Z  eurjpy  137.8020  138.0480  137.7630  137.9955\n",
              "7041  2022-05-06T15:00:00.000Z  eurjpy  138.0045  138.0130  137.8120  137.8130\n",
              "7042  2022-05-06T16:00:00.000Z  eurjpy  137.8140  137.8190  137.7865  137.8085\n",
              "\n",
              "[7043 rows x 6 columns]"
            ],
            "text/html": [
              "\n",
              "  <div id=\"df-723fa48e-762b-486b-a263-6091c601d0ad\">\n",
              "    <div class=\"colab-df-container\">\n",
              "      <div>\n",
              "<style scoped>\n",
              "    .dataframe tbody tr th:only-of-type {\n",
              "        vertical-align: middle;\n",
              "    }\n",
              "\n",
              "    .dataframe tbody tr th {\n",
              "        vertical-align: top;\n",
              "    }\n",
              "\n",
              "    .dataframe thead th {\n",
              "        text-align: right;\n",
              "    }\n",
              "</style>\n",
              "<table border=\"1\" class=\"dataframe\">\n",
              "  <thead>\n",
              "    <tr style=\"text-align: right;\">\n",
              "      <th></th>\n",
              "      <th>date</th>\n",
              "      <th>ticker</th>\n",
              "      <th>open</th>\n",
              "      <th>high</th>\n",
              "      <th>low</th>\n",
              "      <th>close</th>\n",
              "    </tr>\n",
              "  </thead>\n",
              "  <tbody>\n",
              "    <tr>\n",
              "      <th>0</th>\n",
              "      <td>2021-03-16T00:00:00.000Z</td>\n",
              "      <td>eurjpy</td>\n",
              "      <td>130.1495</td>\n",
              "      <td>130.2730</td>\n",
              "      <td>130.1455</td>\n",
              "      <td>130.2395</td>\n",
              "    </tr>\n",
              "    <tr>\n",
              "      <th>1</th>\n",
              "      <td>2021-03-16T01:00:00.000Z</td>\n",
              "      <td>eurjpy</td>\n",
              "      <td>130.2400</td>\n",
              "      <td>130.2885</td>\n",
              "      <td>130.2255</td>\n",
              "      <td>130.2555</td>\n",
              "    </tr>\n",
              "    <tr>\n",
              "      <th>2</th>\n",
              "      <td>2021-03-16T02:00:00.000Z</td>\n",
              "      <td>eurjpy</td>\n",
              "      <td>130.2565</td>\n",
              "      <td>130.2645</td>\n",
              "      <td>130.1795</td>\n",
              "      <td>130.2585</td>\n",
              "    </tr>\n",
              "    <tr>\n",
              "      <th>3</th>\n",
              "      <td>2021-03-16T03:00:00.000Z</td>\n",
              "      <td>eurjpy</td>\n",
              "      <td>130.2575</td>\n",
              "      <td>130.3075</td>\n",
              "      <td>130.2520</td>\n",
              "      <td>130.2705</td>\n",
              "    </tr>\n",
              "    <tr>\n",
              "      <th>4</th>\n",
              "      <td>2021-03-16T04:00:00.000Z</td>\n",
              "      <td>eurjpy</td>\n",
              "      <td>130.2710</td>\n",
              "      <td>130.3405</td>\n",
              "      <td>130.2495</td>\n",
              "      <td>130.3325</td>\n",
              "    </tr>\n",
              "    <tr>\n",
              "      <th>...</th>\n",
              "      <td>...</td>\n",
              "      <td>...</td>\n",
              "      <td>...</td>\n",
              "      <td>...</td>\n",
              "      <td>...</td>\n",
              "      <td>...</td>\n",
              "    </tr>\n",
              "    <tr>\n",
              "      <th>7038</th>\n",
              "      <td>2022-05-06T12:00:00.000Z</td>\n",
              "      <td>eurjpy</td>\n",
              "      <td>137.8010</td>\n",
              "      <td>138.0810</td>\n",
              "      <td>137.7560</td>\n",
              "      <td>137.9020</td>\n",
              "    </tr>\n",
              "    <tr>\n",
              "      <th>7039</th>\n",
              "      <td>2022-05-06T13:00:00.000Z</td>\n",
              "      <td>eurjpy</td>\n",
              "      <td>137.9015</td>\n",
              "      <td>138.1590</td>\n",
              "      <td>137.7160</td>\n",
              "      <td>137.8010</td>\n",
              "    </tr>\n",
              "    <tr>\n",
              "      <th>7040</th>\n",
              "      <td>2022-05-06T14:00:00.000Z</td>\n",
              "      <td>eurjpy</td>\n",
              "      <td>137.8020</td>\n",
              "      <td>138.0480</td>\n",
              "      <td>137.7630</td>\n",
              "      <td>137.9955</td>\n",
              "    </tr>\n",
              "    <tr>\n",
              "      <th>7041</th>\n",
              "      <td>2022-05-06T15:00:00.000Z</td>\n",
              "      <td>eurjpy</td>\n",
              "      <td>138.0045</td>\n",
              "      <td>138.0130</td>\n",
              "      <td>137.8120</td>\n",
              "      <td>137.8130</td>\n",
              "    </tr>\n",
              "    <tr>\n",
              "      <th>7042</th>\n",
              "      <td>2022-05-06T16:00:00.000Z</td>\n",
              "      <td>eurjpy</td>\n",
              "      <td>137.8140</td>\n",
              "      <td>137.8190</td>\n",
              "      <td>137.7865</td>\n",
              "      <td>137.8085</td>\n",
              "    </tr>\n",
              "  </tbody>\n",
              "</table>\n",
              "<p>7043 rows × 6 columns</p>\n",
              "</div>\n",
              "      <button class=\"colab-df-convert\" onclick=\"convertToInteractive('df-723fa48e-762b-486b-a263-6091c601d0ad')\"\n",
              "              title=\"Convert this dataframe to an interactive table.\"\n",
              "              style=\"display:none;\">\n",
              "        \n",
              "  <svg xmlns=\"http://www.w3.org/2000/svg\" height=\"24px\"viewBox=\"0 0 24 24\"\n",
              "       width=\"24px\">\n",
              "    <path d=\"M0 0h24v24H0V0z\" fill=\"none\"/>\n",
              "    <path d=\"M18.56 5.44l.94 2.06.94-2.06 2.06-.94-2.06-.94-.94-2.06-.94 2.06-2.06.94zm-11 1L8.5 8.5l.94-2.06 2.06-.94-2.06-.94L8.5 2.5l-.94 2.06-2.06.94zm10 10l.94 2.06.94-2.06 2.06-.94-2.06-.94-.94-2.06-.94 2.06-2.06.94z\"/><path d=\"M17.41 7.96l-1.37-1.37c-.4-.4-.92-.59-1.43-.59-.52 0-1.04.2-1.43.59L10.3 9.45l-7.72 7.72c-.78.78-.78 2.05 0 2.83L4 21.41c.39.39.9.59 1.41.59.51 0 1.02-.2 1.41-.59l7.78-7.78 2.81-2.81c.8-.78.8-2.07 0-2.86zM5.41 20L4 18.59l7.72-7.72 1.47 1.35L5.41 20z\"/>\n",
              "  </svg>\n",
              "      </button>\n",
              "      \n",
              "  <style>\n",
              "    .colab-df-container {\n",
              "      display:flex;\n",
              "      flex-wrap:wrap;\n",
              "      gap: 12px;\n",
              "    }\n",
              "\n",
              "    .colab-df-convert {\n",
              "      background-color: #E8F0FE;\n",
              "      border: none;\n",
              "      border-radius: 50%;\n",
              "      cursor: pointer;\n",
              "      display: none;\n",
              "      fill: #1967D2;\n",
              "      height: 32px;\n",
              "      padding: 0 0 0 0;\n",
              "      width: 32px;\n",
              "    }\n",
              "\n",
              "    .colab-df-convert:hover {\n",
              "      background-color: #E2EBFA;\n",
              "      box-shadow: 0px 1px 2px rgba(60, 64, 67, 0.3), 0px 1px 3px 1px rgba(60, 64, 67, 0.15);\n",
              "      fill: #174EA6;\n",
              "    }\n",
              "\n",
              "    [theme=dark] .colab-df-convert {\n",
              "      background-color: #3B4455;\n",
              "      fill: #D2E3FC;\n",
              "    }\n",
              "\n",
              "    [theme=dark] .colab-df-convert:hover {\n",
              "      background-color: #434B5C;\n",
              "      box-shadow: 0px 1px 3px 1px rgba(0, 0, 0, 0.15);\n",
              "      filter: drop-shadow(0px 1px 2px rgba(0, 0, 0, 0.3));\n",
              "      fill: #FFFFFF;\n",
              "    }\n",
              "  </style>\n",
              "\n",
              "      <script>\n",
              "        const buttonEl =\n",
              "          document.querySelector('#df-723fa48e-762b-486b-a263-6091c601d0ad button.colab-df-convert');\n",
              "        buttonEl.style.display =\n",
              "          google.colab.kernel.accessAllowed ? 'block' : 'none';\n",
              "\n",
              "        async function convertToInteractive(key) {\n",
              "          const element = document.querySelector('#df-723fa48e-762b-486b-a263-6091c601d0ad');\n",
              "          const dataTable =\n",
              "            await google.colab.kernel.invokeFunction('convertToInteractive',\n",
              "                                                     [key], {});\n",
              "          if (!dataTable) return;\n",
              "\n",
              "          const docLinkHtml = 'Like what you see? Visit the ' +\n",
              "            '<a target=\"_blank\" href=https://colab.research.google.com/notebooks/data_table.ipynb>data table notebook</a>'\n",
              "            + ' to learn more about interactive tables.';\n",
              "          element.innerHTML = '';\n",
              "          dataTable['output_type'] = 'display_data';\n",
              "          await google.colab.output.renderOutput(dataTable, element);\n",
              "          const docLink = document.createElement('div');\n",
              "          docLink.innerHTML = docLinkHtml;\n",
              "          element.appendChild(docLink);\n",
              "        }\n",
              "      </script>\n",
              "    </div>\n",
              "  </div>\n",
              "  "
            ]
          },
          "metadata": {},
          "execution_count": 76
        }
      ]
    },
    {
      "cell_type": "code",
      "execution_count": 78,
      "metadata": {
        "colab": {
          "base_uri": "https://localhost:8080/",
          "height": 424
        },
        "id": "RY6xTyxSPZmE",
        "outputId": "c458d67a-9fcb-451a-8313-96ca8bde22cc"
      },
      "outputs": [
        {
          "output_type": "execute_result",
          "data": {
            "text/plain": [
              "                          date  ticker      open      high       low     close\n",
              "0    2021-03-16 00:00:00+00:00  eurjpy  130.1495  130.2730  130.1455  130.2395\n",
              "1    2021-03-16 01:00:00+00:00  eurjpy  130.2400  130.2885  130.2255  130.2555\n",
              "2    2021-03-16 02:00:00+00:00  eurjpy  130.2565  130.2645  130.1795  130.2585\n",
              "3    2021-03-16 03:00:00+00:00  eurjpy  130.2575  130.3075  130.2520  130.2705\n",
              "4    2021-03-16 04:00:00+00:00  eurjpy  130.2710  130.3405  130.2495  130.3325\n",
              "...                        ...     ...       ...       ...       ...       ...\n",
              "7038 2022-05-06 12:00:00+00:00  eurjpy  137.8010  138.0810  137.7560  137.9020\n",
              "7039 2022-05-06 13:00:00+00:00  eurjpy  137.9015  138.1590  137.7160  137.8010\n",
              "7040 2022-05-06 14:00:00+00:00  eurjpy  137.8020  138.0480  137.7630  137.9955\n",
              "7041 2022-05-06 15:00:00+00:00  eurjpy  138.0045  138.0130  137.8120  137.8130\n",
              "7042 2022-05-06 16:00:00+00:00  eurjpy  137.8140  137.8190  137.7865  137.8085\n",
              "\n",
              "[7043 rows x 6 columns]"
            ],
            "text/html": [
              "\n",
              "  <div id=\"df-e7e9e57a-b8e5-4f5f-acfd-53e54ad6dcf3\">\n",
              "    <div class=\"colab-df-container\">\n",
              "      <div>\n",
              "<style scoped>\n",
              "    .dataframe tbody tr th:only-of-type {\n",
              "        vertical-align: middle;\n",
              "    }\n",
              "\n",
              "    .dataframe tbody tr th {\n",
              "        vertical-align: top;\n",
              "    }\n",
              "\n",
              "    .dataframe thead th {\n",
              "        text-align: right;\n",
              "    }\n",
              "</style>\n",
              "<table border=\"1\" class=\"dataframe\">\n",
              "  <thead>\n",
              "    <tr style=\"text-align: right;\">\n",
              "      <th></th>\n",
              "      <th>date</th>\n",
              "      <th>ticker</th>\n",
              "      <th>open</th>\n",
              "      <th>high</th>\n",
              "      <th>low</th>\n",
              "      <th>close</th>\n",
              "    </tr>\n",
              "  </thead>\n",
              "  <tbody>\n",
              "    <tr>\n",
              "      <th>0</th>\n",
              "      <td>2021-03-16 00:00:00+00:00</td>\n",
              "      <td>eurjpy</td>\n",
              "      <td>130.1495</td>\n",
              "      <td>130.2730</td>\n",
              "      <td>130.1455</td>\n",
              "      <td>130.2395</td>\n",
              "    </tr>\n",
              "    <tr>\n",
              "      <th>1</th>\n",
              "      <td>2021-03-16 01:00:00+00:00</td>\n",
              "      <td>eurjpy</td>\n",
              "      <td>130.2400</td>\n",
              "      <td>130.2885</td>\n",
              "      <td>130.2255</td>\n",
              "      <td>130.2555</td>\n",
              "    </tr>\n",
              "    <tr>\n",
              "      <th>2</th>\n",
              "      <td>2021-03-16 02:00:00+00:00</td>\n",
              "      <td>eurjpy</td>\n",
              "      <td>130.2565</td>\n",
              "      <td>130.2645</td>\n",
              "      <td>130.1795</td>\n",
              "      <td>130.2585</td>\n",
              "    </tr>\n",
              "    <tr>\n",
              "      <th>3</th>\n",
              "      <td>2021-03-16 03:00:00+00:00</td>\n",
              "      <td>eurjpy</td>\n",
              "      <td>130.2575</td>\n",
              "      <td>130.3075</td>\n",
              "      <td>130.2520</td>\n",
              "      <td>130.2705</td>\n",
              "    </tr>\n",
              "    <tr>\n",
              "      <th>4</th>\n",
              "      <td>2021-03-16 04:00:00+00:00</td>\n",
              "      <td>eurjpy</td>\n",
              "      <td>130.2710</td>\n",
              "      <td>130.3405</td>\n",
              "      <td>130.2495</td>\n",
              "      <td>130.3325</td>\n",
              "    </tr>\n",
              "    <tr>\n",
              "      <th>...</th>\n",
              "      <td>...</td>\n",
              "      <td>...</td>\n",
              "      <td>...</td>\n",
              "      <td>...</td>\n",
              "      <td>...</td>\n",
              "      <td>...</td>\n",
              "    </tr>\n",
              "    <tr>\n",
              "      <th>7038</th>\n",
              "      <td>2022-05-06 12:00:00+00:00</td>\n",
              "      <td>eurjpy</td>\n",
              "      <td>137.8010</td>\n",
              "      <td>138.0810</td>\n",
              "      <td>137.7560</td>\n",
              "      <td>137.9020</td>\n",
              "    </tr>\n",
              "    <tr>\n",
              "      <th>7039</th>\n",
              "      <td>2022-05-06 13:00:00+00:00</td>\n",
              "      <td>eurjpy</td>\n",
              "      <td>137.9015</td>\n",
              "      <td>138.1590</td>\n",
              "      <td>137.7160</td>\n",
              "      <td>137.8010</td>\n",
              "    </tr>\n",
              "    <tr>\n",
              "      <th>7040</th>\n",
              "      <td>2022-05-06 14:00:00+00:00</td>\n",
              "      <td>eurjpy</td>\n",
              "      <td>137.8020</td>\n",
              "      <td>138.0480</td>\n",
              "      <td>137.7630</td>\n",
              "      <td>137.9955</td>\n",
              "    </tr>\n",
              "    <tr>\n",
              "      <th>7041</th>\n",
              "      <td>2022-05-06 15:00:00+00:00</td>\n",
              "      <td>eurjpy</td>\n",
              "      <td>138.0045</td>\n",
              "      <td>138.0130</td>\n",
              "      <td>137.8120</td>\n",
              "      <td>137.8130</td>\n",
              "    </tr>\n",
              "    <tr>\n",
              "      <th>7042</th>\n",
              "      <td>2022-05-06 16:00:00+00:00</td>\n",
              "      <td>eurjpy</td>\n",
              "      <td>137.8140</td>\n",
              "      <td>137.8190</td>\n",
              "      <td>137.7865</td>\n",
              "      <td>137.8085</td>\n",
              "    </tr>\n",
              "  </tbody>\n",
              "</table>\n",
              "<p>7043 rows × 6 columns</p>\n",
              "</div>\n",
              "      <button class=\"colab-df-convert\" onclick=\"convertToInteractive('df-e7e9e57a-b8e5-4f5f-acfd-53e54ad6dcf3')\"\n",
              "              title=\"Convert this dataframe to an interactive table.\"\n",
              "              style=\"display:none;\">\n",
              "        \n",
              "  <svg xmlns=\"http://www.w3.org/2000/svg\" height=\"24px\"viewBox=\"0 0 24 24\"\n",
              "       width=\"24px\">\n",
              "    <path d=\"M0 0h24v24H0V0z\" fill=\"none\"/>\n",
              "    <path d=\"M18.56 5.44l.94 2.06.94-2.06 2.06-.94-2.06-.94-.94-2.06-.94 2.06-2.06.94zm-11 1L8.5 8.5l.94-2.06 2.06-.94-2.06-.94L8.5 2.5l-.94 2.06-2.06.94zm10 10l.94 2.06.94-2.06 2.06-.94-2.06-.94-.94-2.06-.94 2.06-2.06.94z\"/><path d=\"M17.41 7.96l-1.37-1.37c-.4-.4-.92-.59-1.43-.59-.52 0-1.04.2-1.43.59L10.3 9.45l-7.72 7.72c-.78.78-.78 2.05 0 2.83L4 21.41c.39.39.9.59 1.41.59.51 0 1.02-.2 1.41-.59l7.78-7.78 2.81-2.81c.8-.78.8-2.07 0-2.86zM5.41 20L4 18.59l7.72-7.72 1.47 1.35L5.41 20z\"/>\n",
              "  </svg>\n",
              "      </button>\n",
              "      \n",
              "  <style>\n",
              "    .colab-df-container {\n",
              "      display:flex;\n",
              "      flex-wrap:wrap;\n",
              "      gap: 12px;\n",
              "    }\n",
              "\n",
              "    .colab-df-convert {\n",
              "      background-color: #E8F0FE;\n",
              "      border: none;\n",
              "      border-radius: 50%;\n",
              "      cursor: pointer;\n",
              "      display: none;\n",
              "      fill: #1967D2;\n",
              "      height: 32px;\n",
              "      padding: 0 0 0 0;\n",
              "      width: 32px;\n",
              "    }\n",
              "\n",
              "    .colab-df-convert:hover {\n",
              "      background-color: #E2EBFA;\n",
              "      box-shadow: 0px 1px 2px rgba(60, 64, 67, 0.3), 0px 1px 3px 1px rgba(60, 64, 67, 0.15);\n",
              "      fill: #174EA6;\n",
              "    }\n",
              "\n",
              "    [theme=dark] .colab-df-convert {\n",
              "      background-color: #3B4455;\n",
              "      fill: #D2E3FC;\n",
              "    }\n",
              "\n",
              "    [theme=dark] .colab-df-convert:hover {\n",
              "      background-color: #434B5C;\n",
              "      box-shadow: 0px 1px 3px 1px rgba(0, 0, 0, 0.15);\n",
              "      filter: drop-shadow(0px 1px 2px rgba(0, 0, 0, 0.3));\n",
              "      fill: #FFFFFF;\n",
              "    }\n",
              "  </style>\n",
              "\n",
              "      <script>\n",
              "        const buttonEl =\n",
              "          document.querySelector('#df-e7e9e57a-b8e5-4f5f-acfd-53e54ad6dcf3 button.colab-df-convert');\n",
              "        buttonEl.style.display =\n",
              "          google.colab.kernel.accessAllowed ? 'block' : 'none';\n",
              "\n",
              "        async function convertToInteractive(key) {\n",
              "          const element = document.querySelector('#df-e7e9e57a-b8e5-4f5f-acfd-53e54ad6dcf3');\n",
              "          const dataTable =\n",
              "            await google.colab.kernel.invokeFunction('convertToInteractive',\n",
              "                                                     [key], {});\n",
              "          if (!dataTable) return;\n",
              "\n",
              "          const docLinkHtml = 'Like what you see? Visit the ' +\n",
              "            '<a target=\"_blank\" href=https://colab.research.google.com/notebooks/data_table.ipynb>data table notebook</a>'\n",
              "            + ' to learn more about interactive tables.';\n",
              "          element.innerHTML = '';\n",
              "          dataTable['output_type'] = 'display_data';\n",
              "          await google.colab.output.renderOutput(dataTable, element);\n",
              "          const docLink = document.createElement('div');\n",
              "          docLink.innerHTML = docLinkHtml;\n",
              "          element.appendChild(docLink);\n",
              "        }\n",
              "      </script>\n",
              "    </div>\n",
              "  </div>\n",
              "  "
            ]
          },
          "metadata": {},
          "execution_count": 78
        }
      ],
      "source": [
        "df= pd.DataFrame(df)\n",
        "df['date']=pd.to_datetime(df['date'])\n",
        "df"
      ]
    },
    {
      "cell_type": "code",
      "execution_count": 79,
      "metadata": {
        "id": "c8RSv8IxPZpW"
      },
      "outputs": [],
      "source": [
        "df['date'] = df['date'].dt.strftime('%d-%m-%Y %H:%M:%S')\n"
      ]
    },
    {
      "cell_type": "code",
      "execution_count": 80,
      "metadata": {
        "colab": {
          "base_uri": "https://localhost:8080/",
          "height": 455
        },
        "id": "8inJt9aqPZrQ",
        "outputId": "27b70f88-e7a9-4be0-b973-6bd7ab36b314"
      },
      "outputs": [
        {
          "output_type": "execute_result",
          "data": {
            "text/plain": [
              "                     ticker      open      high       low     close\n",
              "date                                                               \n",
              "16-03-2021 00:00:00  eurjpy  130.1495  130.2730  130.1455  130.2395\n",
              "16-03-2021 01:00:00  eurjpy  130.2400  130.2885  130.2255  130.2555\n",
              "16-03-2021 02:00:00  eurjpy  130.2565  130.2645  130.1795  130.2585\n",
              "16-03-2021 03:00:00  eurjpy  130.2575  130.3075  130.2520  130.2705\n",
              "16-03-2021 04:00:00  eurjpy  130.2710  130.3405  130.2495  130.3325\n",
              "...                     ...       ...       ...       ...       ...\n",
              "06-05-2022 12:00:00  eurjpy  137.8010  138.0810  137.7560  137.9020\n",
              "06-05-2022 13:00:00  eurjpy  137.9015  138.1590  137.7160  137.8010\n",
              "06-05-2022 14:00:00  eurjpy  137.8020  138.0480  137.7630  137.9955\n",
              "06-05-2022 15:00:00  eurjpy  138.0045  138.0130  137.8120  137.8130\n",
              "06-05-2022 16:00:00  eurjpy  137.8140  137.8190  137.7865  137.8085\n",
              "\n",
              "[7043 rows x 5 columns]"
            ],
            "text/html": [
              "\n",
              "  <div id=\"df-a46b2ba6-21a3-4902-a087-bd7d06198124\">\n",
              "    <div class=\"colab-df-container\">\n",
              "      <div>\n",
              "<style scoped>\n",
              "    .dataframe tbody tr th:only-of-type {\n",
              "        vertical-align: middle;\n",
              "    }\n",
              "\n",
              "    .dataframe tbody tr th {\n",
              "        vertical-align: top;\n",
              "    }\n",
              "\n",
              "    .dataframe thead th {\n",
              "        text-align: right;\n",
              "    }\n",
              "</style>\n",
              "<table border=\"1\" class=\"dataframe\">\n",
              "  <thead>\n",
              "    <tr style=\"text-align: right;\">\n",
              "      <th></th>\n",
              "      <th>ticker</th>\n",
              "      <th>open</th>\n",
              "      <th>high</th>\n",
              "      <th>low</th>\n",
              "      <th>close</th>\n",
              "    </tr>\n",
              "    <tr>\n",
              "      <th>date</th>\n",
              "      <th></th>\n",
              "      <th></th>\n",
              "      <th></th>\n",
              "      <th></th>\n",
              "      <th></th>\n",
              "    </tr>\n",
              "  </thead>\n",
              "  <tbody>\n",
              "    <tr>\n",
              "      <th>16-03-2021 00:00:00</th>\n",
              "      <td>eurjpy</td>\n",
              "      <td>130.1495</td>\n",
              "      <td>130.2730</td>\n",
              "      <td>130.1455</td>\n",
              "      <td>130.2395</td>\n",
              "    </tr>\n",
              "    <tr>\n",
              "      <th>16-03-2021 01:00:00</th>\n",
              "      <td>eurjpy</td>\n",
              "      <td>130.2400</td>\n",
              "      <td>130.2885</td>\n",
              "      <td>130.2255</td>\n",
              "      <td>130.2555</td>\n",
              "    </tr>\n",
              "    <tr>\n",
              "      <th>16-03-2021 02:00:00</th>\n",
              "      <td>eurjpy</td>\n",
              "      <td>130.2565</td>\n",
              "      <td>130.2645</td>\n",
              "      <td>130.1795</td>\n",
              "      <td>130.2585</td>\n",
              "    </tr>\n",
              "    <tr>\n",
              "      <th>16-03-2021 03:00:00</th>\n",
              "      <td>eurjpy</td>\n",
              "      <td>130.2575</td>\n",
              "      <td>130.3075</td>\n",
              "      <td>130.2520</td>\n",
              "      <td>130.2705</td>\n",
              "    </tr>\n",
              "    <tr>\n",
              "      <th>16-03-2021 04:00:00</th>\n",
              "      <td>eurjpy</td>\n",
              "      <td>130.2710</td>\n",
              "      <td>130.3405</td>\n",
              "      <td>130.2495</td>\n",
              "      <td>130.3325</td>\n",
              "    </tr>\n",
              "    <tr>\n",
              "      <th>...</th>\n",
              "      <td>...</td>\n",
              "      <td>...</td>\n",
              "      <td>...</td>\n",
              "      <td>...</td>\n",
              "      <td>...</td>\n",
              "    </tr>\n",
              "    <tr>\n",
              "      <th>06-05-2022 12:00:00</th>\n",
              "      <td>eurjpy</td>\n",
              "      <td>137.8010</td>\n",
              "      <td>138.0810</td>\n",
              "      <td>137.7560</td>\n",
              "      <td>137.9020</td>\n",
              "    </tr>\n",
              "    <tr>\n",
              "      <th>06-05-2022 13:00:00</th>\n",
              "      <td>eurjpy</td>\n",
              "      <td>137.9015</td>\n",
              "      <td>138.1590</td>\n",
              "      <td>137.7160</td>\n",
              "      <td>137.8010</td>\n",
              "    </tr>\n",
              "    <tr>\n",
              "      <th>06-05-2022 14:00:00</th>\n",
              "      <td>eurjpy</td>\n",
              "      <td>137.8020</td>\n",
              "      <td>138.0480</td>\n",
              "      <td>137.7630</td>\n",
              "      <td>137.9955</td>\n",
              "    </tr>\n",
              "    <tr>\n",
              "      <th>06-05-2022 15:00:00</th>\n",
              "      <td>eurjpy</td>\n",
              "      <td>138.0045</td>\n",
              "      <td>138.0130</td>\n",
              "      <td>137.8120</td>\n",
              "      <td>137.8130</td>\n",
              "    </tr>\n",
              "    <tr>\n",
              "      <th>06-05-2022 16:00:00</th>\n",
              "      <td>eurjpy</td>\n",
              "      <td>137.8140</td>\n",
              "      <td>137.8190</td>\n",
              "      <td>137.7865</td>\n",
              "      <td>137.8085</td>\n",
              "    </tr>\n",
              "  </tbody>\n",
              "</table>\n",
              "<p>7043 rows × 5 columns</p>\n",
              "</div>\n",
              "      <button class=\"colab-df-convert\" onclick=\"convertToInteractive('df-a46b2ba6-21a3-4902-a087-bd7d06198124')\"\n",
              "              title=\"Convert this dataframe to an interactive table.\"\n",
              "              style=\"display:none;\">\n",
              "        \n",
              "  <svg xmlns=\"http://www.w3.org/2000/svg\" height=\"24px\"viewBox=\"0 0 24 24\"\n",
              "       width=\"24px\">\n",
              "    <path d=\"M0 0h24v24H0V0z\" fill=\"none\"/>\n",
              "    <path d=\"M18.56 5.44l.94 2.06.94-2.06 2.06-.94-2.06-.94-.94-2.06-.94 2.06-2.06.94zm-11 1L8.5 8.5l.94-2.06 2.06-.94-2.06-.94L8.5 2.5l-.94 2.06-2.06.94zm10 10l.94 2.06.94-2.06 2.06-.94-2.06-.94-.94-2.06-.94 2.06-2.06.94z\"/><path d=\"M17.41 7.96l-1.37-1.37c-.4-.4-.92-.59-1.43-.59-.52 0-1.04.2-1.43.59L10.3 9.45l-7.72 7.72c-.78.78-.78 2.05 0 2.83L4 21.41c.39.39.9.59 1.41.59.51 0 1.02-.2 1.41-.59l7.78-7.78 2.81-2.81c.8-.78.8-2.07 0-2.86zM5.41 20L4 18.59l7.72-7.72 1.47 1.35L5.41 20z\"/>\n",
              "  </svg>\n",
              "      </button>\n",
              "      \n",
              "  <style>\n",
              "    .colab-df-container {\n",
              "      display:flex;\n",
              "      flex-wrap:wrap;\n",
              "      gap: 12px;\n",
              "    }\n",
              "\n",
              "    .colab-df-convert {\n",
              "      background-color: #E8F0FE;\n",
              "      border: none;\n",
              "      border-radius: 50%;\n",
              "      cursor: pointer;\n",
              "      display: none;\n",
              "      fill: #1967D2;\n",
              "      height: 32px;\n",
              "      padding: 0 0 0 0;\n",
              "      width: 32px;\n",
              "    }\n",
              "\n",
              "    .colab-df-convert:hover {\n",
              "      background-color: #E2EBFA;\n",
              "      box-shadow: 0px 1px 2px rgba(60, 64, 67, 0.3), 0px 1px 3px 1px rgba(60, 64, 67, 0.15);\n",
              "      fill: #174EA6;\n",
              "    }\n",
              "\n",
              "    [theme=dark] .colab-df-convert {\n",
              "      background-color: #3B4455;\n",
              "      fill: #D2E3FC;\n",
              "    }\n",
              "\n",
              "    [theme=dark] .colab-df-convert:hover {\n",
              "      background-color: #434B5C;\n",
              "      box-shadow: 0px 1px 3px 1px rgba(0, 0, 0, 0.15);\n",
              "      filter: drop-shadow(0px 1px 2px rgba(0, 0, 0, 0.3));\n",
              "      fill: #FFFFFF;\n",
              "    }\n",
              "  </style>\n",
              "\n",
              "      <script>\n",
              "        const buttonEl =\n",
              "          document.querySelector('#df-a46b2ba6-21a3-4902-a087-bd7d06198124 button.colab-df-convert');\n",
              "        buttonEl.style.display =\n",
              "          google.colab.kernel.accessAllowed ? 'block' : 'none';\n",
              "\n",
              "        async function convertToInteractive(key) {\n",
              "          const element = document.querySelector('#df-a46b2ba6-21a3-4902-a087-bd7d06198124');\n",
              "          const dataTable =\n",
              "            await google.colab.kernel.invokeFunction('convertToInteractive',\n",
              "                                                     [key], {});\n",
              "          if (!dataTable) return;\n",
              "\n",
              "          const docLinkHtml = 'Like what you see? Visit the ' +\n",
              "            '<a target=\"_blank\" href=https://colab.research.google.com/notebooks/data_table.ipynb>data table notebook</a>'\n",
              "            + ' to learn more about interactive tables.';\n",
              "          element.innerHTML = '';\n",
              "          dataTable['output_type'] = 'display_data';\n",
              "          await google.colab.output.renderOutput(dataTable, element);\n",
              "          const docLink = document.createElement('div');\n",
              "          docLink.innerHTML = docLinkHtml;\n",
              "          element.appendChild(docLink);\n",
              "        }\n",
              "      </script>\n",
              "    </div>\n",
              "  </div>\n",
              "  "
            ]
          },
          "metadata": {},
          "execution_count": 80
        }
      ],
      "source": [
        "df.set_index('date',inplace=True)\n",
        "df"
      ]
    },
    {
      "cell_type": "code",
      "execution_count": 88,
      "metadata": {
        "colab": {
          "base_uri": "https://localhost:8080/",
          "height": 295
        },
        "id": "m8QuWjxIPZt5",
        "outputId": "7184b2ef-d383-44d9-a4ba-b85f48c66b6b"
      },
      "outputs": [
        {
          "output_type": "display_data",
          "data": {
            "text/plain": [
              "<Figure size 432x288 with 1 Axes>"
            ],
            "image/png": "[encoded data removed]"
          },
          "metadata": {
            "needs_background": "light"
          }
        }
      ],
      "source": [
        "scipy.stats.probplot(df.high,plot=pylab)\n",
        "pylab.show()"
      ]
    },
    {
      "cell_type": "code",
      "execution_count": 89,
      "metadata": {
        "colab": {
          "base_uri": "https://localhost:8080/"
        },
        "id": "OsrNCGN4PZwS",
        "outputId": "a2a12fb8-fe02-4852-b873-98fe9373fc0f"
      },
      "outputs": [
        {
          "output_type": "execute_result",
          "data": {
            "text/plain": [
              "(-1.2107337359274615,\n",
              " 0.668961369627366,\n",
              " 5,\n",
              " 7037,\n",
              " {'1%': -3.431279613044704,\n",
              "  '5%': -2.8619508146206374,\n",
              "  '10%': -2.5669886726127307},\n",
              " -11196.69958278747)"
            ]
          },
          "metadata": {},
          "execution_count": 89
        }
      ],
      "source": [
        "sts.adfuller(df.high)"
      ]
    },
    {
      "cell_type": "code",
      "execution_count": 90,
      "metadata": {
        "id": "IirPzdGpPZy3"
      },
      "outputs": [],
      "source": [
        "from statsmodels.tsa.seasonal import seasonal_decompose"
      ]
    },
    {
      "cell_type": "code",
      "execution_count": 91,
      "metadata": {
        "colab": {
          "base_uri": "https://localhost:8080/",
          "height": 281
        },
        "id": "v7GxW3GzPZ1G",
        "outputId": "c6ef659d-7ff5-4720-9e78-a9930b2c87c8"
      },
      "outputs": [
        {
          "output_type": "display_data",
          "data": {
            "text/plain": [
              "<Figure size 432x288 with 1 Axes>"
            ],
            "image/png": "[encoded data removed]"
          },
          "metadata": {
            "needs_background": "light"
          }
        }
      ],
      "source": [
        "#acf Plot\n",
        "import statsmodels.graphics.tsaplots as sgt\n",
        "sgt.plot_acf(df.high,lags=40,zero=False)\n",
        "plt.show()"
      ]
    },
    {
      "cell_type": "markdown",
      "metadata": {
        "id": "ACDAea3tb1co"
      },
      "source": [
        "q = 2 or 3"
      ]
    },
    {
      "cell_type": "code",
      "execution_count": 92,
      "metadata": {
        "colab": {
          "base_uri": "https://localhost:8080/",
          "height": 336
        },
        "id": "7Nk5cC6oPZ4H",
        "outputId": "f26a9cb7-50ea-4032-fd83-d040604bd5a8"
      },
      "outputs": [
        {
          "output_type": "stream",
          "name": "stderr",
          "text": [
            "/usr/local/lib/python3.9/dist-packages/statsmodels/graphics/tsaplots.py:348: FutureWarning: The default method 'yw' can produce PACF values outside of the [-1,1] interval. After 0.13, the default will change tounadjusted Yule-Walker ('ywm'). You can use this method now by setting method='ywm'.\n",
            "  warnings.warn(\n"
          ]
        },
        {
          "output_type": "display_data",
          "data": {
            "text/plain": [
              "<Figure size 432x288 with 1 Axes>"
            ],
            "image/png": "[encoded data removed]"
          },
          "metadata": {
            "needs_background": "light"
          }
        }
      ],
      "source": [
        "#pacf Plot\n",
        "\n",
        "sgt.plot_pacf(df.high,lags=100,zero=False)\n",
        "plt.show()"
      ]
    },
    {
      "cell_type": "code",
      "execution_count": 93,
      "metadata": {
        "colab": {
          "base_uri": "https://localhost:8080/",
          "height": 455
        },
        "id": "Dzq3K72bPZ5c",
        "outputId": "ad09ef71-d1ea-41e2-d1cf-966125556f43"
      },
      "outputs": [
        {
          "output_type": "execute_result",
          "data": {
            "text/plain": [
              "                     ticker      open      high       low     close\n",
              "date                                                               \n",
              "16-03-2021 00:00:00  eurjpy  130.1495  130.2730  130.1455  130.2395\n",
              "16-03-2021 01:00:00  eurjpy  130.2400  130.2885  130.2255  130.2555\n",
              "16-03-2021 02:00:00  eurjpy  130.2565  130.2645  130.1795  130.2585\n",
              "16-03-2021 03:00:00  eurjpy  130.2575  130.3075  130.2520  130.2705\n",
              "16-03-2021 04:00:00  eurjpy  130.2710  130.3405  130.2495  130.3325\n",
              "...                     ...       ...       ...       ...       ...\n",
              "14-02-2022 08:00:00  eurjpy  130.8545  130.8800  130.1045  130.1950\n",
              "14-02-2022 09:00:00  eurjpy  130.1945  130.4155  130.1150  130.1440\n",
              "14-02-2022 10:00:00  eurjpy  130.1445  130.3860  130.0460  130.2740\n",
              "14-02-2022 11:00:00  eurjpy  130.2730  130.3045  130.1235  130.2800\n",
              "14-02-2022 12:00:00  eurjpy  130.2810  130.9250  130.1450  130.7800\n",
              "\n",
              "[5634 rows x 5 columns]"
            ],
            "text/html": [
              "\n",
              "  <div id=\"df-0ff2fd54-8559-4e2f-8fe9-28dabfc14381\">\n",
              "    <div class=\"colab-df-container\">\n",
              "      <div>\n",
              "<style scoped>\n",
              "    .dataframe tbody tr th:only-of-type {\n",
              "        vertical-align: middle;\n",
              "    }\n",
              "\n",
              "    .dataframe tbody tr th {\n",
              "        vertical-align: top;\n",
              "    }\n",
              "\n",
              "    .dataframe thead th {\n",
              "        text-align: right;\n",
              "    }\n",
              "</style>\n",
              "<table border=\"1\" class=\"dataframe\">\n",
              "  <thead>\n",
              "    <tr style=\"text-align: right;\">\n",
              "      <th></th>\n",
              "      <th>ticker</th>\n",
              "      <th>open</th>\n",
              "      <th>high</th>\n",
              "      <th>low</th>\n",
              "      <th>close</th>\n",
              "    </tr>\n",
              "    <tr>\n",
              "      <th>date</th>\n",
              "      <th></th>\n",
              "      <th></th>\n",
              "      <th></th>\n",
              "      <th></th>\n",
              "      <th></th>\n",
              "    </tr>\n",
              "  </thead>\n",
              "  <tbody>\n",
              "    <tr>\n",
              "      <th>16-03-2021 00:00:00</th>\n",
              "      <td>eurjpy</td>\n",
              "      <td>130.1495</td>\n",
              "      <td>130.2730</td>\n",
              "      <td>130.1455</td>\n",
              "      <td>130.2395</td>\n",
              "    </tr>\n",
              "    <tr>\n",
              "      <th>16-03-2021 01:00:00</th>\n",
              "      <td>eurjpy</td>\n",
              "      <td>130.2400</td>\n",
              "      <td>130.2885</td>\n",
              "      <td>130.2255</td>\n",
              "      <td>130.2555</td>\n",
              "    </tr>\n",
              "    <tr>\n",
              "      <th>16-03-2021 02:00:00</th>\n",
              "      <td>eurjpy</td>\n",
              "      <td>130.2565</td>\n",
              "      <td>130.2645</td>\n",
              "      <td>130.1795</td>\n",
              "      <td>130.2585</td>\n",
              "    </tr>\n",
              "    <tr>\n",
              "      <th>16-03-2021 03:00:00</th>\n",
              "      <td>eurjpy</td>\n",
              "      <td>130.2575</td>\n",
              "      <td>130.3075</td>\n",
              "      <td>130.2520</td>\n",
              "      <td>130.2705</td>\n",
              "    </tr>\n",
              "    <tr>\n",
              "      <th>16-03-2021 04:00:00</th>\n",
              "      <td>eurjpy</td>\n",
              "      <td>130.2710</td>\n",
              "      <td>130.3405</td>\n",
              "      <td>130.2495</td>\n",
              "      <td>130.3325</td>\n",
              "    </tr>\n",
              "    <tr>\n",
              "      <th>...</th>\n",
              "      <td>...</td>\n",
              "      <td>...</td>\n",
              "      <td>...</td>\n",
              "      <td>...</td>\n",
              "      <td>...</td>\n",
              "    </tr>\n",
              "    <tr>\n",
              "      <th>14-02-2022 08:00:00</th>\n",
              "      <td>eurjpy</td>\n",
              "      <td>130.8545</td>\n",
              "      <td>130.8800</td>\n",
              "      <td>130.1045</td>\n",
              "      <td>130.1950</td>\n",
              "    </tr>\n",
              "    <tr>\n",
              "      <th>14-02-2022 09:00:00</th>\n",
              "      <td>eurjpy</td>\n",
              "      <td>130.1945</td>\n",
              "      <td>130.4155</td>\n",
              "      <td>130.1150</td>\n",
              "      <td>130.1440</td>\n",
              "    </tr>\n",
              "    <tr>\n",
              "      <th>14-02-2022 10:00:00</th>\n",
              "      <td>eurjpy</td>\n",
              "      <td>130.1445</td>\n",
              "      <td>130.3860</td>\n",
              "      <td>130.0460</td>\n",
              "      <td>130.2740</td>\n",
              "    </tr>\n",
              "    <tr>\n",
              "      <th>14-02-2022 11:00:00</th>\n",
              "      <td>eurjpy</td>\n",
              "      <td>130.2730</td>\n",
              "      <td>130.3045</td>\n",
              "      <td>130.1235</td>\n",
              "      <td>130.2800</td>\n",
              "    </tr>\n",
              "    <tr>\n",
              "      <th>14-02-2022 12:00:00</th>\n",
              "      <td>eurjpy</td>\n",
              "      <td>130.2810</td>\n",
              "      <td>130.9250</td>\n",
              "      <td>130.1450</td>\n",
              "      <td>130.7800</td>\n",
              "    </tr>\n",
              "  </tbody>\n",
              "</table>\n",
              "<p>5634 rows × 5 columns</p>\n",
              "</div>\n",
              "      <button class=\"colab-df-convert\" onclick=\"convertToInteractive('df-0ff2fd54-8559-4e2f-8fe9-28dabfc14381')\"\n",
              "              title=\"Convert this dataframe to an interactive table.\"\n",
              "              style=\"display:none;\">\n",
              "        \n",
              "  <svg xmlns=\"http://www.w3.org/2000/svg\" height=\"24px\"viewBox=\"0 0 24 24\"\n",
              "       width=\"24px\">\n",
              "    <path d=\"M0 0h24v24H0V0z\" fill=\"none\"/>\n",
              "    <path d=\"M18.56 5.44l.94 2.06.94-2.06 2.06-.94-2.06-.94-.94-2.06-.94 2.06-2.06.94zm-11 1L8.5 8.5l.94-2.06 2.06-.94-2.06-.94L8.5 2.5l-.94 2.06-2.06.94zm10 10l.94 2.06.94-2.06 2.06-.94-2.06-.94-.94-2.06-.94 2.06-2.06.94z\"/><path d=\"M17.41 7.96l-1.37-1.37c-.4-.4-.92-.59-1.43-.59-.52 0-1.04.2-1.43.59L10.3 9.45l-7.72 7.72c-.78.78-.78 2.05 0 2.83L4 21.41c.39.39.9.59 1.41.59.51 0 1.02-.2 1.41-.59l7.78-7.78 2.81-2.81c.8-.78.8-2.07 0-2.86zM5.41 20L4 18.59l7.72-7.72 1.47 1.35L5.41 20z\"/>\n",
              "  </svg>\n",
              "      </button>\n",
              "      \n",
              "  <style>\n",
              "    .colab-df-container {\n",
              "      display:flex;\n",
              "      flex-wrap:wrap;\n",
              "      gap: 12px;\n",
              "    }\n",
              "\n",
              "    .colab-df-convert {\n",
              "      background-color: #E8F0FE;\n",
              "      border: none;\n",
              "      border-radius: 50%;\n",
              "      cursor: pointer;\n",
              "      display: none;\n",
              "      fill: #1967D2;\n",
              "      height: 32px;\n",
              "      padding: 0 0 0 0;\n",
              "      width: 32px;\n",
              "    }\n",
              "\n",
              "    .colab-df-convert:hover {\n",
              "      background-color: #E2EBFA;\n",
              "      box-shadow: 0px 1px 2px rgba(60, 64, 67, 0.3), 0px 1px 3px 1px rgba(60, 64, 67, 0.15);\n",
              "      fill: #174EA6;\n",
              "    }\n",
              "\n",
              "    [theme=dark] .colab-df-convert {\n",
              "      background-color: #3B4455;\n",
              "      fill: #D2E3FC;\n",
              "    }\n",
              "\n",
              "    [theme=dark] .colab-df-convert:hover {\n",
              "      background-color: #434B5C;\n",
              "      box-shadow: 0px 1px 3px 1px rgba(0, 0, 0, 0.15);\n",
              "      filter: drop-shadow(0px 1px 2px rgba(0, 0, 0, 0.3));\n",
              "      fill: #FFFFFF;\n",
              "    }\n",
              "  </style>\n",
              "\n",
              "      <script>\n",
              "        const buttonEl =\n",
              "          document.querySelector('#df-0ff2fd54-8559-4e2f-8fe9-28dabfc14381 button.colab-df-convert');\n",
              "        buttonEl.style.display =\n",
              "          google.colab.kernel.accessAllowed ? 'block' : 'none';\n",
              "\n",
              "        async function convertToInteractive(key) {\n",
              "          const element = document.querySelector('#df-0ff2fd54-8559-4e2f-8fe9-28dabfc14381');\n",
              "          const dataTable =\n",
              "            await google.colab.kernel.invokeFunction('convertToInteractive',\n",
              "                                                     [key], {});\n",
              "          if (!dataTable) return;\n",
              "\n",
              "          const docLinkHtml = 'Like what you see? Visit the ' +\n",
              "            '<a target=\"_blank\" href=https://colab.research.google.com/notebooks/data_table.ipynb>data table notebook</a>'\n",
              "            + ' to learn more about interactive tables.';\n",
              "          element.innerHTML = '';\n",
              "          dataTable['output_type'] = 'display_data';\n",
              "          await google.colab.output.renderOutput(dataTable, element);\n",
              "          const docLink = document.createElement('div');\n",
              "          docLink.innerHTML = docLinkHtml;\n",
              "          element.appendChild(docLink);\n",
              "        }\n",
              "      </script>\n",
              "    </div>\n",
              "  </div>\n",
              "  "
            ]
          },
          "metadata": {},
          "execution_count": 93
        }
      ],
      "source": [
        "size= int(len(df)*0.8)\n",
        "train= df.iloc[:size,:]\n",
        "test=df.iloc[size:,:]\n",
        "train"
      ]
    },
    {
      "cell_type": "code",
      "execution_count": 94,
      "metadata": {
        "colab": {
          "base_uri": "https://localhost:8080/"
        },
        "id": "IN9JITqJPZ7u",
        "outputId": "bbe5f061-30cd-4b7d-bf45-7d6f2e8ace72"
      },
      "outputs": [
        {
          "output_type": "stream",
          "name": "stderr",
          "text": [
            "/usr/local/lib/python3.9/dist-packages/statsmodels/tsa/base/tsa_model.py:471: ValueWarning: A date index has been provided, but it has no associated frequency information and so will be ignored when e.g. forecasting.\n",
            "  self._init_dates(dates, freq)\n",
            "/usr/local/lib/python3.9/dist-packages/statsmodels/tsa/base/tsa_model.py:471: ValueWarning: A date index has been provided, but it is not monotonic and so will be ignored when e.g. forecasting.\n",
            "  self._init_dates(dates, freq)\n",
            "/usr/local/lib/python3.9/dist-packages/statsmodels/tsa/base/tsa_model.py:471: ValueWarning: A date index has been provided, but it has no associated frequency information and so will be ignored when e.g. forecasting.\n",
            "  self._init_dates(dates, freq)\n",
            "/usr/local/lib/python3.9/dist-packages/statsmodels/tsa/base/tsa_model.py:471: ValueWarning: A date index has been provided, but it is not monotonic and so will be ignored when e.g. forecasting.\n",
            "  self._init_dates(dates, freq)\n",
            "/usr/local/lib/python3.9/dist-packages/statsmodels/tsa/base/tsa_model.py:471: ValueWarning: A date index has been provided, but it has no associated frequency information and so will be ignored when e.g. forecasting.\n",
            "  self._init_dates(dates, freq)\n",
            "/usr/local/lib/python3.9/dist-packages/statsmodels/tsa/base/tsa_model.py:471: ValueWarning: A date index has been provided, but it is not monotonic and so will be ignored when e.g. forecasting.\n",
            "  self._init_dates(dates, freq)\n"
          ]
        }
      ],
      "source": [
        "import statsmodels.api as sm \n",
        "model=sm.tsa.arima.ARIMA(train.high,order=(2,1,2))"
      ]
    },
    {
      "cell_type": "code",
      "execution_count": 95,
      "metadata": {
        "colab": {
          "base_uri": "https://localhost:8080/",
          "height": 473
        },
        "id": "DCR9Tji7PZ-b",
        "outputId": "e2aec113-45a7-4f57-fd8e-ab7eadde057b"
      },
      "outputs": [
        {
          "output_type": "execute_result",
          "data": {
            "text/plain": [
              "<class 'statsmodels.iolib.summary.Summary'>\n",
              "\"\"\"\n",
              "                               SARIMAX Results                                \n",
              "==============================================================================\n",
              "Dep. Variable:                   high   No. Observations:                 5634\n",
              "Model:                 ARIMA(2, 1, 2)   Log Likelihood                5925.085\n",
              "Date:                Thu, 16 Mar 2023   AIC                         -11840.170\n",
              "Time:                        14:26:11   BIC                         -11806.988\n",
              "Sample:                             0   HQIC                        -11828.610\n",
              "                               - 5634                                         \n",
              "Covariance Type:                  opg                                         \n",
              "==============================================================================\n",
              "                 coef    std err          z      P>|z|      [0.025      0.975]\n",
              "------------------------------------------------------------------------------\n",
              "ar.L1          0.1553      0.308      0.503      0.615      -0.449       0.760\n",
              "ar.L2         -0.1947      0.058     -3.356      0.001      -0.308      -0.081\n",
              "ma.L1          0.0107      0.308      0.035      0.972      -0.594       0.615\n",
              "ma.L2          0.1721      0.074      2.316      0.021       0.026       0.318\n",
              "sigma2         0.0071   6.02e-05    118.713      0.000       0.007       0.007\n",
              "===================================================================================\n",
              "Ljung-Box (L1) (Q):                   0.00   Jarque-Bera (JB):             22093.44\n",
              "Prob(Q):                              0.95   Prob(JB):                         0.00\n",
              "Heteroskedasticity (H):               1.68   Skew:                            -0.36\n",
              "Prob(H) (two-sided):                  0.00   Kurtosis:                        12.67\n",
              "===================================================================================\n",
              "\n",
              "Warnings:\n",
              "[1] Covariance matrix calculated using the outer product of gradients (complex-step).\n",
              "\"\"\""
            ],
            "text/html": [
              "<table class=\"simpletable\">\n",
              "<caption>SARIMAX Results</caption>\n",
              "<tr>\n",
              "  <th>Dep. Variable:</th>         <td>high</td>       <th>  No. Observations:  </th>    <td>5634</td>   \n",
              "</tr>\n",
              "<tr>\n",
              "  <th>Model:</th>            <td>ARIMA(2, 1, 2)</td>  <th>  Log Likelihood     </th>  <td>5925.085</td> \n",
              "</tr>\n",
              "<tr>\n",
              "  <th>Date:</th>            <td>Thu, 16 Mar 2023</td> <th>  AIC                </th> <td>-11840.170</td>\n",
              "</tr>\n",
              "<tr>\n",
              "  <th>Time:</th>                <td>14:26:11</td>     <th>  BIC                </th> <td>-11806.988</td>\n",
              "</tr>\n",
              "<tr>\n",
              "  <th>Sample:</th>                  <td>0</td>        <th>  HQIC               </th> <td>-11828.610</td>\n",
              "</tr>\n",
              "<tr>\n",
              "  <th></th>                      <td> - 5634</td>     <th>                     </th>      <td> </td>    \n",
              "</tr>\n",
              "<tr>\n",
              "  <th>Covariance Type:</th>        <td>opg</td>       <th>                     </th>      <td> </td>    \n",
              "</tr>\n",
              "</table>\n",
              "<table class=\"simpletable\">\n",
              "<tr>\n",
              "     <td></td>       <th>coef</th>     <th>std err</th>      <th>z</th>      <th>P>|z|</th>  <th>[0.025</th>    <th>0.975]</th>  \n",
              "</tr>\n",
              "<tr>\n",
              "  <th>ar.L1</th>  <td>    0.1553</td> <td>    0.308</td> <td>    0.503</td> <td> 0.615</td> <td>   -0.449</td> <td>    0.760</td>\n",
              "</tr>\n",
              "<tr>\n",
              "  <th>ar.L2</th>  <td>   -0.1947</td> <td>    0.058</td> <td>   -3.356</td> <td> 0.001</td> <td>   -0.308</td> <td>   -0.081</td>\n",
              "</tr>\n",
              "<tr>\n",
              "  <th>ma.L1</th>  <td>    0.0107</td> <td>    0.308</td> <td>    0.035</td> <td> 0.972</td> <td>   -0.594</td> <td>    0.615</td>\n",
              "</tr>\n",
              "<tr>\n",
              "  <th>ma.L2</th>  <td>    0.1721</td> <td>    0.074</td> <td>    2.316</td> <td> 0.021</td> <td>    0.026</td> <td>    0.318</td>\n",
              "</tr>\n",
              "<tr>\n",
              "  <th>sigma2</th> <td>    0.0071</td> <td> 6.02e-05</td> <td>  118.713</td> <td> 0.000</td> <td>    0.007</td> <td>    0.007</td>\n",
              "</tr>\n",
              "</table>\n",
              "<table class=\"simpletable\">\n",
              "<tr>\n",
              "  <th>Ljung-Box (L1) (Q):</th>     <td>0.00</td> <th>  Jarque-Bera (JB):  </th> <td>22093.44</td>\n",
              "</tr>\n",
              "<tr>\n",
              "  <th>Prob(Q):</th>                <td>0.95</td> <th>  Prob(JB):          </th>   <td>0.00</td>  \n",
              "</tr>\n",
              "<tr>\n",
              "  <th>Heteroskedasticity (H):</th> <td>1.68</td> <th>  Skew:              </th>   <td>-0.36</td> \n",
              "</tr>\n",
              "<tr>\n",
              "  <th>Prob(H) (two-sided):</th>    <td>0.00</td> <th>  Kurtosis:          </th>   <td>12.67</td> \n",
              "</tr>\n",
              "</table><br/><br/>Warnings:<br/>[1] Covariance matrix calculated using the outer product of gradients (complex-step)."
            ]
          },
          "metadata": {},
          "execution_count": 95
        }
      ],
      "source": [
        "result= model.fit()\n",
        "result.summary()"
      ]
    },
    {
      "cell_type": "code",
      "execution_count": 96,
      "metadata": {
        "colab": {
          "base_uri": "https://localhost:8080/",
          "height": 265
        },
        "id": "Jgt6iM8JcT9-",
        "outputId": "04f0d274-197c-4c3d-953e-426906ff9c0e"
      },
      "outputs": [
        {
          "output_type": "display_data",
          "data": {
            "text/plain": [
              "<Figure size 432x288 with 1 Axes>"
            ],
            "image/png": "[encoded data removed]"
          },
          "metadata": {
            "needs_background": "light"
          }
        }
      ],
      "source": [
        "resid= result.resid\n",
        "re= pd.DataFrame(resid)\n",
        "re.plot(kind='kde')\n",
        "plt.show()"
      ]
    },
    {
      "cell_type": "code",
      "execution_count": 97,
      "metadata": {
        "colab": {
          "base_uri": "https://localhost:8080/",
          "height": 606
        },
        "id": "O9XPKXm5cUBq",
        "outputId": "fcb2b02a-5300-44ae-d9bf-88a7c0e71a80"
      },
      "outputs": [
        {
          "output_type": "display_data",
          "data": {
            "text/plain": [
              "<Figure size 2160x720 with 1 Axes>"
            ],
            "image/png": "[encoded data removed]"
          },
          "metadata": {
            "needs_background": "light"
          }
        }
      ],
      "source": [
        "plt.figure(figsize=(30,10))\n",
        "plt.grid(True)\n",
        "plt.xlabel('Dates')\n",
        "plt.ylabel('High Prices')\n",
        "plt.plot(train.high,'green',label='Train data')\n",
        "plt.plot(test.high,'blue',label='Test data')\n",
        "plt.legend()\n",
        "plt.show()"
      ]
    },
    {
      "cell_type": "code",
      "execution_count": 98,
      "metadata": {
        "colab": {
          "base_uri": "https://localhost:8080/"
        },
        "id": "Hn9kWm9ncUEN",
        "outputId": "3391bee1-0fc0-4c83-8c56-94e3b9aa9f2d"
      },
      "outputs": [
        {
          "output_type": "execute_result",
          "data": {
            "text/plain": [
              "date\n",
              "14-02-2022 13:00:00    130.8380\n",
              "14-02-2022 14:00:00    130.7940\n",
              "14-02-2022 15:00:00    130.7780\n",
              "14-02-2022 16:00:00    130.8665\n",
              "14-02-2022 17:00:00    130.8430\n",
              "                         ...   \n",
              "06-05-2022 12:00:00    138.0810\n",
              "06-05-2022 13:00:00    138.1590\n",
              "06-05-2022 14:00:00    138.0480\n",
              "06-05-2022 15:00:00    138.0130\n",
              "06-05-2022 16:00:00    137.8190\n",
              "Name: high, Length: 1409, dtype: float64"
            ]
          },
          "metadata": {},
          "execution_count": 98
        }
      ],
      "source": [
        "test.high"
      ]
    },
    {
      "cell_type": "code",
      "execution_count": 100,
      "metadata": {
        "id": "gy8yAnFCcUIL"
      },
      "outputs": [],
      "source": [
        "start= '14-02-2022 13:00:00'\n",
        "end= '06-05-2022 16:00:00'"
      ]
    },
    {
      "cell_type": "code",
      "execution_count": 101,
      "metadata": {
        "colab": {
          "base_uri": "https://localhost:8080/"
        },
        "id": "EVb1u1L1cULn",
        "outputId": "a4c4117d-7433-4706-ee12-641c10a62c70"
      },
      "outputs": [
        {
          "output_type": "stream",
          "name": "stderr",
          "text": [
            "/usr/local/lib/python3.9/dist-packages/statsmodels/base/model.py:604: ConvergenceWarning: Maximum Likelihood optimization failed to converge. Check mle_retvals\n",
            "  warnings.warn(\"Maximum Likelihood optimization failed to \"\n",
            "/usr/local/lib/python3.9/dist-packages/statsmodels/base/model.py:604: ConvergenceWarning: Maximum Likelihood optimization failed to converge. Check mle_retvals\n",
            "  warnings.warn(\"Maximum Likelihood optimization failed to \"\n",
            "/usr/local/lib/python3.9/dist-packages/statsmodels/base/model.py:604: ConvergenceWarning: Maximum Likelihood optimization failed to converge. Check mle_retvals\n",
            "  warnings.warn(\"Maximum Likelihood optimization failed to \"\n",
            "/usr/local/lib/python3.9/dist-packages/statsmodels/base/model.py:604: ConvergenceWarning: Maximum Likelihood optimization failed to converge. Check mle_retvals\n",
            "  warnings.warn(\"Maximum Likelihood optimization failed to \"\n",
            "/usr/local/lib/python3.9/dist-packages/statsmodels/base/model.py:604: ConvergenceWarning: Maximum Likelihood optimization failed to converge. Check mle_retvals\n",
            "  warnings.warn(\"Maximum Likelihood optimization failed to \"\n",
            "/usr/local/lib/python3.9/dist-packages/statsmodels/base/model.py:604: ConvergenceWarning: Maximum Likelihood optimization failed to converge. Check mle_retvals\n",
            "  warnings.warn(\"Maximum Likelihood optimization failed to \"\n",
            "/usr/local/lib/python3.9/dist-packages/statsmodels/base/model.py:604: ConvergenceWarning: Maximum Likelihood optimization failed to converge. Check mle_retvals\n",
            "  warnings.warn(\"Maximum Likelihood optimization failed to \"\n",
            "/usr/local/lib/python3.9/dist-packages/statsmodels/base/model.py:604: ConvergenceWarning: Maximum Likelihood optimization failed to converge. Check mle_retvals\n",
            "  warnings.warn(\"Maximum Likelihood optimization failed to \"\n",
            "/usr/local/lib/python3.9/dist-packages/statsmodels/base/model.py:604: ConvergenceWarning: Maximum Likelihood optimization failed to converge. Check mle_retvals\n",
            "  warnings.warn(\"Maximum Likelihood optimization failed to \"\n"
          ]
        }
      ],
      "source": [
        "history = [x for x in train.high]\n",
        "pred = list()\n",
        "for t in range (len(test.high[start:end])):\n",
        "    model=sm.tsa.arima.ARIMA(history,order=(2,1,2))\n",
        "    result= model.fit()\n",
        "    output=result.forecast()\n",
        "    yhat=output[0]\n",
        "    pred.append(yhat)\n",
        "    obs=test.high[t]\n",
        "    history.append(obs)"
      ]
    },
    {
      "cell_type": "code",
      "execution_count": 102,
      "metadata": {
        "id": "MoXAWYRrcUOM",
        "colab": {
          "base_uri": "https://localhost:8080/",
          "height": 334
        },
        "outputId": "028eb013-7454-4994-913d-5e1dcbba9dda"
      },
      "outputs": [
        {
          "output_type": "display_data",
          "data": {
            "text/plain": [
              "<Figure size 1440x360 with 1 Axes>"
            ],
            "image/png": "[encoded data removed]"
          },
          "metadata": {
            "needs_background": "light"
          }
        }
      ],
      "source": [
        "pred= pd.DataFrame(pred,index=test[start:end].index)\n",
        "pred.plot(figsize=(20,5),c='r')\n",
        "test.open[start:end].plot(figsize=(20,5),c='b')\n",
        "plt.show()"
      ]
    },
    {
      "cell_type": "code",
      "execution_count": 103,
      "metadata": {
        "id": "XAOrp8mkcUQb"
      },
      "outputs": [],
      "source": [
        "from sklearn.metrics import r2_score,mean_absolute_error,mean_squared_error"
      ]
    },
    {
      "cell_type": "code",
      "execution_count": 104,
      "metadata": {
        "id": "NYgiKfjzcUdz"
      },
      "outputs": [],
      "source": [
        "def RMSE (y_true,y_pred):\n",
        "    mse= mean_squared_error(y_true,y_pred)\n",
        "    rmse=np.sqrt(mse)\n",
        "    return rmse"
      ]
    },
    {
      "cell_type": "code",
      "source": [
        "def validation (y_true,y_pred):\n",
        "    r2=r2_score(y_true,y_pred)\n",
        "    rmse=RMSE(y_true,y_pred)\n",
        "    mae=mean_absolute_error(y_true,y_pred)\n",
        "    return print(f'R2 Score is : {r2} \\n RMSE is: {rmse} \\n MEA is : {mae}')"
      ],
      "metadata": {
        "id": "bub9MinC_SEd"
      },
      "execution_count": 105,
      "outputs": []
    },
    {
      "cell_type": "code",
      "source": [
        "validation(test.open[start:end], pred)"
      ],
      "metadata": {
        "colab": {
          "base_uri": "https://localhost:8080/"
        },
        "id": "Ll7pI74x_SH5",
        "outputId": "abf98fad-c4c6-459f-e1f8-fff7e6612725"
      },
      "execution_count": 106,
      "outputs": [
        {
          "output_type": "stream",
          "name": "stdout",
          "text": [
            "R2 Score is : 0.9977241462002276 \n",
            " RMSE is: 0.1824813475266877 \n",
            " MEA is : 0.12940919271918008\n"
          ]
        }
      ]
    },
    {
      "cell_type": "code",
      "source": [
        "forecasts = result.forecast(horizon=5)\n",
        "print(forecasts.variance.values[-1,:])"
      ],
      "metadata": {
        "colab": {
          "base_uri": "https://localhost:8080/",
          "height": 183
        },
        "id": "qgX9tQdB_SLP",
        "outputId": "e1f5e203-6e8d-4800-b162-1874f08c7df1"
      },
      "execution_count": 114,
      "outputs": [
        {
          "output_type": "error",
          "ename": "AttributeError",
          "evalue": "ignored",
          "traceback": [
            "\u001b[0;31m---------------------------------------------------------------------------\u001b[0m",
            "\u001b[0;31mAttributeError\u001b[0m                            Traceback (most recent call last)",
            "\u001b[0;32m<ipython-input-114-ed2a15055e11>\u001b[0m in \u001b[0;36m<module>\u001b[0;34m\u001b[0m\n\u001b[1;32m      1\u001b[0m \u001b[0mforecasts\u001b[0m \u001b[0;34m=\u001b[0m \u001b[0mresult\u001b[0m\u001b[0;34m.\u001b[0m\u001b[0mforecast\u001b[0m\u001b[0;34m(\u001b[0m\u001b[0mhorizon\u001b[0m\u001b[0;34m=\u001b[0m\u001b[0;36m5\u001b[0m\u001b[0;34m)\u001b[0m\u001b[0;34m\u001b[0m\u001b[0;34m\u001b[0m\u001b[0m\n\u001b[0;32m----> 2\u001b[0;31m \u001b[0mprint\u001b[0m\u001b[0;34m(\u001b[0m\u001b[0mforecasts\u001b[0m\u001b[0;34m.\u001b[0m\u001b[0mvariance\u001b[0m\u001b[0;34m.\u001b[0m\u001b[0mvalues\u001b[0m\u001b[0;34m[\u001b[0m\u001b[0;34m-\u001b[0m\u001b[0;36m1\u001b[0m\u001b[0;34m,\u001b[0m\u001b[0;34m:\u001b[0m\u001b[0;34m]\u001b[0m\u001b[0;34m)\u001b[0m\u001b[0;34m\u001b[0m\u001b[0;34m\u001b[0m\u001b[0m\n\u001b[0m",
            "\u001b[0;31mAttributeError\u001b[0m: 'numpy.ndarray' object has no attribute 'variance'"
          ]
        }
      ]
    },
    {
      "cell_type": "code",
      "source": [],
      "metadata": {
        "id": "VhL9egKH_X9m"
      },
      "execution_count": null,
      "outputs": []
    },
    {
      "cell_type": "code",
      "source": [],
      "metadata": {
        "id": "zKzyt5hN_YA9"
      },
      "execution_count": null,
      "outputs": []
    },
    {
      "cell_type": "code",
      "source": [],
      "metadata": {
        "id": "-iQKGoya_YEW"
      },
      "execution_count": null,
      "outputs": []
    },
    {
      "cell_type": "code",
      "source": [],
      "metadata": {
        "id": "HHzWOxZ1_YG1"
      },
      "execution_count": null,
      "outputs": []
    },
    {
      "cell_type": "code",
      "source": [],
      "metadata": {
        "id": "oEtERj00_SQQ"
      },
      "execution_count": null,
      "outputs": []
    },
    {
      "cell_type": "code",
      "source": [],
      "metadata": {
        "id": "b8ZLSwUQ_SUJ"
      },
      "execution_count": null,
      "outputs": []
    },
    {
      "cell_type": "code",
      "source": [],
      "metadata": {
        "id": "gf4xipXY_SYH"
      },
      "execution_count": null,
      "outputs": []
    },
    {
      "cell_type": "markdown",
      "metadata": {
        "id": "XhlLLPz_PPUU"
      },
      "source": [
        "# New Section"
      ]
    }
  ],
  "metadata": {
    "accelerator": "TPU",
    "colab": {
      "provenance": [],
      "authorship_tag": "ABX9TyMilxSH3ldak+YggtVFfWLa",
      "include_colab_link": true
    },
    "gpuClass": "standard",
    "kernelspec": {
      "display_name": "Python 3",
      "name": "python3"
    },
    "language_info": {
      "name": "python"
    }
  },
  "nbformat": 4,
  "nbformat_minor": 0
}